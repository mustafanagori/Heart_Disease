{
 "cells": [
  {
   "cell_type": "markdown",
   "id": "04f59b52",
   "metadata": {},
   "source": [
    "Importing all the common libraries which will be use in our project and following are the funtionalities of libraries which they will perform on our dataset:\n",
    "\n",
    "    pandas will be use for data analysis\n",
    "    numpy will be use for performing varity of mathematical task\n",
    "    mathplotlib will be use for visualizing and presenting our data graphically\n",
    "    seaborn will be use for visualizing and exploring our data analysis"
   ]
  },
  {
   "cell_type": "code",
   "execution_count": 11,
   "id": "871327f9",
   "metadata": {},
   "outputs": [],
   "source": [
    "import pandas as pd # data analysis put data in table\n",
    "\n",
    "import numpy as np  #perform math operation\n",
    "\n",
    "import matplotlib.pyplot as plt\n",
    "\n",
    "%matplotlib inline  \n",
    "\n",
    "import seaborn as sns  #explore our data in grapical form"
   ]
  },
  {
   "cell_type": "markdown",
   "id": "a82f986e",
   "metadata": {},
   "source": [
    "Importing the dataset into python script"
   ]
  },
  {
   "cell_type": "code",
   "execution_count": 15,
   "id": "51bf3f1e",
   "metadata": {},
   "outputs": [],
   "source": [
    "dataset = pd.read_csv(\"heart.csv\")  # path of dataset"
   ]
  },
  {
   "cell_type": "markdown",
   "id": "62b08da0",
   "metadata": {},
   "source": [
    "We can display the data of a column/the hole dataset by using below code"
   ]
  },
  {
   "cell_type": "code",
   "execution_count": 16,
   "id": "bc74fe65",
   "metadata": {},
   "outputs": [
    {
     "data": {
      "text/html": [
       "<div>\n",
       "<style scoped>\n",
       "    .dataframe tbody tr th:only-of-type {\n",
       "        vertical-align: middle;\n",
       "    }\n",
       "\n",
       "    .dataframe tbody tr th {\n",
       "        vertical-align: top;\n",
       "    }\n",
       "\n",
       "    .dataframe thead th {\n",
       "        text-align: right;\n",
       "    }\n",
       "</style>\n",
       "<table border=\"1\" class=\"dataframe\">\n",
       "  <thead>\n",
       "    <tr style=\"text-align: right;\">\n",
       "      <th></th>\n",
       "      <th>Age</th>\n",
       "      <th>Sex</th>\n",
       "      <th>ChestPainType</th>\n",
       "      <th>RestingBP</th>\n",
       "      <th>Cholesterol</th>\n",
       "      <th>FastingBS</th>\n",
       "      <th>RestingECG</th>\n",
       "      <th>MaxHR</th>\n",
       "      <th>ExerciseAngina</th>\n",
       "      <th>Oldpeak</th>\n",
       "      <th>ST_Slope</th>\n",
       "      <th>HeartDisease</th>\n",
       "    </tr>\n",
       "  </thead>\n",
       "  <tbody>\n",
       "    <tr>\n",
       "      <th>0</th>\n",
       "      <td>40</td>\n",
       "      <td>M</td>\n",
       "      <td>ATA</td>\n",
       "      <td>140</td>\n",
       "      <td>289</td>\n",
       "      <td>0</td>\n",
       "      <td>Normal</td>\n",
       "      <td>172</td>\n",
       "      <td>N</td>\n",
       "      <td>0.0</td>\n",
       "      <td>Up</td>\n",
       "      <td>0</td>\n",
       "    </tr>\n",
       "    <tr>\n",
       "      <th>1</th>\n",
       "      <td>49</td>\n",
       "      <td>F</td>\n",
       "      <td>NAP</td>\n",
       "      <td>160</td>\n",
       "      <td>180</td>\n",
       "      <td>0</td>\n",
       "      <td>Normal</td>\n",
       "      <td>156</td>\n",
       "      <td>N</td>\n",
       "      <td>1.0</td>\n",
       "      <td>Flat</td>\n",
       "      <td>1</td>\n",
       "    </tr>\n",
       "    <tr>\n",
       "      <th>2</th>\n",
       "      <td>37</td>\n",
       "      <td>M</td>\n",
       "      <td>ATA</td>\n",
       "      <td>130</td>\n",
       "      <td>283</td>\n",
       "      <td>0</td>\n",
       "      <td>ST</td>\n",
       "      <td>98</td>\n",
       "      <td>N</td>\n",
       "      <td>0.0</td>\n",
       "      <td>Up</td>\n",
       "      <td>0</td>\n",
       "    </tr>\n",
       "    <tr>\n",
       "      <th>3</th>\n",
       "      <td>48</td>\n",
       "      <td>F</td>\n",
       "      <td>ASY</td>\n",
       "      <td>138</td>\n",
       "      <td>214</td>\n",
       "      <td>0</td>\n",
       "      <td>Normal</td>\n",
       "      <td>108</td>\n",
       "      <td>Y</td>\n",
       "      <td>1.5</td>\n",
       "      <td>Flat</td>\n",
       "      <td>1</td>\n",
       "    </tr>\n",
       "    <tr>\n",
       "      <th>4</th>\n",
       "      <td>54</td>\n",
       "      <td>M</td>\n",
       "      <td>NAP</td>\n",
       "      <td>150</td>\n",
       "      <td>195</td>\n",
       "      <td>0</td>\n",
       "      <td>Normal</td>\n",
       "      <td>122</td>\n",
       "      <td>N</td>\n",
       "      <td>0.0</td>\n",
       "      <td>Up</td>\n",
       "      <td>0</td>\n",
       "    </tr>\n",
       "    <tr>\n",
       "      <th>...</th>\n",
       "      <td>...</td>\n",
       "      <td>...</td>\n",
       "      <td>...</td>\n",
       "      <td>...</td>\n",
       "      <td>...</td>\n",
       "      <td>...</td>\n",
       "      <td>...</td>\n",
       "      <td>...</td>\n",
       "      <td>...</td>\n",
       "      <td>...</td>\n",
       "      <td>...</td>\n",
       "      <td>...</td>\n",
       "    </tr>\n",
       "    <tr>\n",
       "      <th>913</th>\n",
       "      <td>45</td>\n",
       "      <td>M</td>\n",
       "      <td>TA</td>\n",
       "      <td>110</td>\n",
       "      <td>264</td>\n",
       "      <td>0</td>\n",
       "      <td>Normal</td>\n",
       "      <td>132</td>\n",
       "      <td>N</td>\n",
       "      <td>1.2</td>\n",
       "      <td>Flat</td>\n",
       "      <td>1</td>\n",
       "    </tr>\n",
       "    <tr>\n",
       "      <th>914</th>\n",
       "      <td>68</td>\n",
       "      <td>M</td>\n",
       "      <td>ASY</td>\n",
       "      <td>144</td>\n",
       "      <td>193</td>\n",
       "      <td>1</td>\n",
       "      <td>Normal</td>\n",
       "      <td>141</td>\n",
       "      <td>N</td>\n",
       "      <td>3.4</td>\n",
       "      <td>Flat</td>\n",
       "      <td>1</td>\n",
       "    </tr>\n",
       "    <tr>\n",
       "      <th>915</th>\n",
       "      <td>57</td>\n",
       "      <td>M</td>\n",
       "      <td>ASY</td>\n",
       "      <td>130</td>\n",
       "      <td>131</td>\n",
       "      <td>0</td>\n",
       "      <td>Normal</td>\n",
       "      <td>115</td>\n",
       "      <td>Y</td>\n",
       "      <td>1.2</td>\n",
       "      <td>Flat</td>\n",
       "      <td>1</td>\n",
       "    </tr>\n",
       "    <tr>\n",
       "      <th>916</th>\n",
       "      <td>57</td>\n",
       "      <td>F</td>\n",
       "      <td>ATA</td>\n",
       "      <td>130</td>\n",
       "      <td>236</td>\n",
       "      <td>0</td>\n",
       "      <td>LVH</td>\n",
       "      <td>174</td>\n",
       "      <td>N</td>\n",
       "      <td>0.0</td>\n",
       "      <td>Flat</td>\n",
       "      <td>1</td>\n",
       "    </tr>\n",
       "    <tr>\n",
       "      <th>917</th>\n",
       "      <td>38</td>\n",
       "      <td>M</td>\n",
       "      <td>NAP</td>\n",
       "      <td>138</td>\n",
       "      <td>175</td>\n",
       "      <td>0</td>\n",
       "      <td>Normal</td>\n",
       "      <td>173</td>\n",
       "      <td>N</td>\n",
       "      <td>0.0</td>\n",
       "      <td>Up</td>\n",
       "      <td>0</td>\n",
       "    </tr>\n",
       "  </tbody>\n",
       "</table>\n",
       "<p>918 rows × 12 columns</p>\n",
       "</div>"
      ],
      "text/plain": [
       "     Age Sex ChestPainType  RestingBP  Cholesterol  FastingBS RestingECG  \\\n",
       "0     40   M           ATA        140          289          0     Normal   \n",
       "1     49   F           NAP        160          180          0     Normal   \n",
       "2     37   M           ATA        130          283          0         ST   \n",
       "3     48   F           ASY        138          214          0     Normal   \n",
       "4     54   M           NAP        150          195          0     Normal   \n",
       "..   ...  ..           ...        ...          ...        ...        ...   \n",
       "913   45   M            TA        110          264          0     Normal   \n",
       "914   68   M           ASY        144          193          1     Normal   \n",
       "915   57   M           ASY        130          131          0     Normal   \n",
       "916   57   F           ATA        130          236          0        LVH   \n",
       "917   38   M           NAP        138          175          0     Normal   \n",
       "\n",
       "     MaxHR ExerciseAngina  Oldpeak ST_Slope  HeartDisease  \n",
       "0      172              N      0.0       Up             0  \n",
       "1      156              N      1.0     Flat             1  \n",
       "2       98              N      0.0       Up             0  \n",
       "3      108              Y      1.5     Flat             1  \n",
       "4      122              N      0.0       Up             0  \n",
       "..     ...            ...      ...      ...           ...  \n",
       "913    132              N      1.2     Flat             1  \n",
       "914    141              N      3.4     Flat             1  \n",
       "915    115              Y      1.2     Flat             1  \n",
       "916    174              N      0.0     Flat             1  \n",
       "917    173              N      0.0       Up             0  \n",
       "\n",
       "[918 rows x 12 columns]"
      ]
     },
     "execution_count": 16,
     "metadata": {},
     "output_type": "execute_result"
    }
   ],
   "source": [
    "dataset"
   ]
  },
  {
   "cell_type": "markdown",
   "id": "04a2aeb0",
   "metadata": {},
   "source": [
    "shape is use to show dimension's of our dataset"
   ]
  },
  {
   "cell_type": "code",
   "execution_count": 17,
   "id": "8f47b0c7",
   "metadata": {},
   "outputs": [
    {
     "data": {
      "text/plain": [
       "(918, 12)"
      ]
     },
     "execution_count": 17,
     "metadata": {},
     "output_type": "execute_result"
    }
   ],
   "source": [
    "dataset.shape"
   ]
  },
  {
   "cell_type": "markdown",
   "id": "02340f01",
   "metadata": {},
   "source": [
    "head() is use to show the starting 5 rows of our dataset"
   ]
  },
  {
   "cell_type": "code",
   "execution_count": 18,
   "id": "f5ff4232",
   "metadata": {},
   "outputs": [
    {
     "data": {
      "text/html": [
       "<div>\n",
       "<style scoped>\n",
       "    .dataframe tbody tr th:only-of-type {\n",
       "        vertical-align: middle;\n",
       "    }\n",
       "\n",
       "    .dataframe tbody tr th {\n",
       "        vertical-align: top;\n",
       "    }\n",
       "\n",
       "    .dataframe thead th {\n",
       "        text-align: right;\n",
       "    }\n",
       "</style>\n",
       "<table border=\"1\" class=\"dataframe\">\n",
       "  <thead>\n",
       "    <tr style=\"text-align: right;\">\n",
       "      <th></th>\n",
       "      <th>Age</th>\n",
       "      <th>Sex</th>\n",
       "      <th>ChestPainType</th>\n",
       "      <th>RestingBP</th>\n",
       "      <th>Cholesterol</th>\n",
       "      <th>FastingBS</th>\n",
       "      <th>RestingECG</th>\n",
       "      <th>MaxHR</th>\n",
       "      <th>ExerciseAngina</th>\n",
       "      <th>Oldpeak</th>\n",
       "      <th>ST_Slope</th>\n",
       "      <th>HeartDisease</th>\n",
       "    </tr>\n",
       "  </thead>\n",
       "  <tbody>\n",
       "    <tr>\n",
       "      <th>0</th>\n",
       "      <td>40</td>\n",
       "      <td>M</td>\n",
       "      <td>ATA</td>\n",
       "      <td>140</td>\n",
       "      <td>289</td>\n",
       "      <td>0</td>\n",
       "      <td>Normal</td>\n",
       "      <td>172</td>\n",
       "      <td>N</td>\n",
       "      <td>0.0</td>\n",
       "      <td>Up</td>\n",
       "      <td>0</td>\n",
       "    </tr>\n",
       "    <tr>\n",
       "      <th>1</th>\n",
       "      <td>49</td>\n",
       "      <td>F</td>\n",
       "      <td>NAP</td>\n",
       "      <td>160</td>\n",
       "      <td>180</td>\n",
       "      <td>0</td>\n",
       "      <td>Normal</td>\n",
       "      <td>156</td>\n",
       "      <td>N</td>\n",
       "      <td>1.0</td>\n",
       "      <td>Flat</td>\n",
       "      <td>1</td>\n",
       "    </tr>\n",
       "    <tr>\n",
       "      <th>2</th>\n",
       "      <td>37</td>\n",
       "      <td>M</td>\n",
       "      <td>ATA</td>\n",
       "      <td>130</td>\n",
       "      <td>283</td>\n",
       "      <td>0</td>\n",
       "      <td>ST</td>\n",
       "      <td>98</td>\n",
       "      <td>N</td>\n",
       "      <td>0.0</td>\n",
       "      <td>Up</td>\n",
       "      <td>0</td>\n",
       "    </tr>\n",
       "    <tr>\n",
       "      <th>3</th>\n",
       "      <td>48</td>\n",
       "      <td>F</td>\n",
       "      <td>ASY</td>\n",
       "      <td>138</td>\n",
       "      <td>214</td>\n",
       "      <td>0</td>\n",
       "      <td>Normal</td>\n",
       "      <td>108</td>\n",
       "      <td>Y</td>\n",
       "      <td>1.5</td>\n",
       "      <td>Flat</td>\n",
       "      <td>1</td>\n",
       "    </tr>\n",
       "    <tr>\n",
       "      <th>4</th>\n",
       "      <td>54</td>\n",
       "      <td>M</td>\n",
       "      <td>NAP</td>\n",
       "      <td>150</td>\n",
       "      <td>195</td>\n",
       "      <td>0</td>\n",
       "      <td>Normal</td>\n",
       "      <td>122</td>\n",
       "      <td>N</td>\n",
       "      <td>0.0</td>\n",
       "      <td>Up</td>\n",
       "      <td>0</td>\n",
       "    </tr>\n",
       "  </tbody>\n",
       "</table>\n",
       "</div>"
      ],
      "text/plain": [
       "   Age Sex ChestPainType  RestingBP  Cholesterol  FastingBS RestingECG  MaxHR  \\\n",
       "0   40   M           ATA        140          289          0     Normal    172   \n",
       "1   49   F           NAP        160          180          0     Normal    156   \n",
       "2   37   M           ATA        130          283          0         ST     98   \n",
       "3   48   F           ASY        138          214          0     Normal    108   \n",
       "4   54   M           NAP        150          195          0     Normal    122   \n",
       "\n",
       "  ExerciseAngina  Oldpeak ST_Slope  HeartDisease  \n",
       "0              N      0.0       Up             0  \n",
       "1              N      1.0     Flat             1  \n",
       "2              N      0.0       Up             0  \n",
       "3              Y      1.5     Flat             1  \n",
       "4              N      0.0       Up             0  "
      ]
     },
     "execution_count": 18,
     "metadata": {},
     "output_type": "execute_result"
    }
   ],
   "source": [
    "dataset.head()"
   ]
  },
  {
   "cell_type": "markdown",
   "id": "e1113fa2",
   "metadata": {},
   "source": [
    "Setting a targeted column"
   ]
  },
  {
   "cell_type": "code",
   "execution_count": 19,
   "id": "8e04995d",
   "metadata": {},
   "outputs": [],
   "source": [
    "target = dataset['HeartDisease']"
   ]
  },
  {
   "cell_type": "code",
   "execution_count": 20,
   "id": "d88dd613",
   "metadata": {},
   "outputs": [
    {
     "data": {
      "text/plain": [
       "0      0\n",
       "1      1\n",
       "2      0\n",
       "3      1\n",
       "4      0\n",
       "      ..\n",
       "913    1\n",
       "914    1\n",
       "915    1\n",
       "916    1\n",
       "917    0\n",
       "Name: HeartDisease, Length: 918, dtype: int64"
      ]
     },
     "execution_count": 20,
     "metadata": {},
     "output_type": "execute_result"
    }
   ],
   "source": [
    "target"
   ]
  },
  {
   "cell_type": "code",
   "execution_count": 21,
   "id": "11aabb63",
   "metadata": {},
   "outputs": [
    {
     "data": {
      "text/plain": [
       "(918,)"
      ]
     },
     "execution_count": 21,
     "metadata": {},
     "output_type": "execute_result"
    }
   ],
   "source": [
    "target.shape"
   ]
  },
  {
   "cell_type": "code",
   "execution_count": 22,
   "id": "185adf4a",
   "metadata": {},
   "outputs": [
    {
     "data": {
      "text/plain": [
       "0    0\n",
       "1    1\n",
       "2    0\n",
       "3    1\n",
       "4    0\n",
       "Name: HeartDisease, dtype: int64"
      ]
     },
     "execution_count": 22,
     "metadata": {},
     "output_type": "execute_result"
    }
   ],
   "source": [
    "target.head()"
   ]
  },
  {
   "cell_type": "markdown",
   "id": "b50989f8",
   "metadata": {},
   "source": [
    "Importing LabelEncoder from sklearn.preprocessing to convert our alphabetic data into numeric data"
   ]
  },
  {
   "cell_type": "code",
   "execution_count": 23,
   "id": "5ba1321e",
   "metadata": {},
   "outputs": [],
   "source": [
    "from sklearn.preprocessing import LabelEncoder #convert alphabetic data into numeric data"
   ]
  },
  {
   "cell_type": "markdown",
   "id": "d1179b63",
   "metadata": {},
   "source": [
    "We have save the LabelEncoder() function in following variables"
   ]
  },
  {
   "cell_type": "code",
   "execution_count": 24,
   "id": "04937bf1",
   "metadata": {},
   "outputs": [],
   "source": [
    "labelSex = LabelEncoder()\n",
    "labelChestPainType = LabelEncoder()\n",
    "labelRestingECG = LabelEncoder()\n",
    "labelExerciseAngina = LabelEncoder()\n",
    "labelST_Slope = LabelEncoder()"
   ]
  },
  {
   "cell_type": "code",
   "execution_count": 25,
   "id": "c2d31418",
   "metadata": {},
   "outputs": [],
   "source": [
    "dataset['Label Sex'] = labelChestPainType.fit_transform(dataset['Sex']) # convert sex lable 1 0r 0 form"
   ]
  },
  {
   "cell_type": "markdown",
   "id": "3e6b96bc",
   "metadata": {},
   "source": [
    "We have changed the alphabetic values of Sex column into numeric values. And here 1 represent Male and 0 represent Female."
   ]
  },
  {
   "cell_type": "code",
   "execution_count": 26,
   "id": "14a7b7ff",
   "metadata": {},
   "outputs": [
    {
     "data": {
      "text/html": [
       "<div>\n",
       "<style scoped>\n",
       "    .dataframe tbody tr th:only-of-type {\n",
       "        vertical-align: middle;\n",
       "    }\n",
       "\n",
       "    .dataframe tbody tr th {\n",
       "        vertical-align: top;\n",
       "    }\n",
       "\n",
       "    .dataframe thead th {\n",
       "        text-align: right;\n",
       "    }\n",
       "</style>\n",
       "<table border=\"1\" class=\"dataframe\">\n",
       "  <thead>\n",
       "    <tr style=\"text-align: right;\">\n",
       "      <th></th>\n",
       "      <th>Age</th>\n",
       "      <th>Sex</th>\n",
       "      <th>ChestPainType</th>\n",
       "      <th>RestingBP</th>\n",
       "      <th>Cholesterol</th>\n",
       "      <th>FastingBS</th>\n",
       "      <th>RestingECG</th>\n",
       "      <th>MaxHR</th>\n",
       "      <th>ExerciseAngina</th>\n",
       "      <th>Oldpeak</th>\n",
       "      <th>ST_Slope</th>\n",
       "      <th>HeartDisease</th>\n",
       "      <th>Label Sex</th>\n",
       "    </tr>\n",
       "  </thead>\n",
       "  <tbody>\n",
       "    <tr>\n",
       "      <th>641</th>\n",
       "      <td>46</td>\n",
       "      <td>F</td>\n",
       "      <td>ASY</td>\n",
       "      <td>138</td>\n",
       "      <td>243</td>\n",
       "      <td>0</td>\n",
       "      <td>LVH</td>\n",
       "      <td>152</td>\n",
       "      <td>Y</td>\n",
       "      <td>0.0</td>\n",
       "      <td>Flat</td>\n",
       "      <td>0</td>\n",
       "      <td>0</td>\n",
       "    </tr>\n",
       "    <tr>\n",
       "      <th>125</th>\n",
       "      <td>54</td>\n",
       "      <td>M</td>\n",
       "      <td>ATA</td>\n",
       "      <td>120</td>\n",
       "      <td>246</td>\n",
       "      <td>0</td>\n",
       "      <td>Normal</td>\n",
       "      <td>110</td>\n",
       "      <td>N</td>\n",
       "      <td>0.0</td>\n",
       "      <td>Up</td>\n",
       "      <td>0</td>\n",
       "      <td>1</td>\n",
       "    </tr>\n",
       "    <tr>\n",
       "      <th>657</th>\n",
       "      <td>44</td>\n",
       "      <td>M</td>\n",
       "      <td>NAP</td>\n",
       "      <td>130</td>\n",
       "      <td>233</td>\n",
       "      <td>0</td>\n",
       "      <td>Normal</td>\n",
       "      <td>179</td>\n",
       "      <td>Y</td>\n",
       "      <td>0.4</td>\n",
       "      <td>Up</td>\n",
       "      <td>0</td>\n",
       "      <td>1</td>\n",
       "    </tr>\n",
       "    <tr>\n",
       "      <th>502</th>\n",
       "      <td>69</td>\n",
       "      <td>M</td>\n",
       "      <td>ASY</td>\n",
       "      <td>140</td>\n",
       "      <td>208</td>\n",
       "      <td>0</td>\n",
       "      <td>ST</td>\n",
       "      <td>140</td>\n",
       "      <td>Y</td>\n",
       "      <td>2.0</td>\n",
       "      <td>Flat</td>\n",
       "      <td>1</td>\n",
       "      <td>1</td>\n",
       "    </tr>\n",
       "    <tr>\n",
       "      <th>660</th>\n",
       "      <td>58</td>\n",
       "      <td>M</td>\n",
       "      <td>NAP</td>\n",
       "      <td>140</td>\n",
       "      <td>211</td>\n",
       "      <td>1</td>\n",
       "      <td>LVH</td>\n",
       "      <td>165</td>\n",
       "      <td>N</td>\n",
       "      <td>0.0</td>\n",
       "      <td>Up</td>\n",
       "      <td>0</td>\n",
       "      <td>1</td>\n",
       "    </tr>\n",
       "    <tr>\n",
       "      <th>858</th>\n",
       "      <td>62</td>\n",
       "      <td>F</td>\n",
       "      <td>ASY</td>\n",
       "      <td>140</td>\n",
       "      <td>268</td>\n",
       "      <td>0</td>\n",
       "      <td>LVH</td>\n",
       "      <td>160</td>\n",
       "      <td>N</td>\n",
       "      <td>3.6</td>\n",
       "      <td>Down</td>\n",
       "      <td>1</td>\n",
       "      <td>0</td>\n",
       "    </tr>\n",
       "    <tr>\n",
       "      <th>58</th>\n",
       "      <td>54</td>\n",
       "      <td>M</td>\n",
       "      <td>ASY</td>\n",
       "      <td>150</td>\n",
       "      <td>365</td>\n",
       "      <td>0</td>\n",
       "      <td>ST</td>\n",
       "      <td>134</td>\n",
       "      <td>N</td>\n",
       "      <td>1.0</td>\n",
       "      <td>Up</td>\n",
       "      <td>0</td>\n",
       "      <td>1</td>\n",
       "    </tr>\n",
       "    <tr>\n",
       "      <th>414</th>\n",
       "      <td>54</td>\n",
       "      <td>M</td>\n",
       "      <td>ASY</td>\n",
       "      <td>130</td>\n",
       "      <td>0</td>\n",
       "      <td>1</td>\n",
       "      <td>Normal</td>\n",
       "      <td>110</td>\n",
       "      <td>Y</td>\n",
       "      <td>3.0</td>\n",
       "      <td>Flat</td>\n",
       "      <td>1</td>\n",
       "      <td>1</td>\n",
       "    </tr>\n",
       "    <tr>\n",
       "      <th>714</th>\n",
       "      <td>50</td>\n",
       "      <td>F</td>\n",
       "      <td>ATA</td>\n",
       "      <td>120</td>\n",
       "      <td>244</td>\n",
       "      <td>0</td>\n",
       "      <td>Normal</td>\n",
       "      <td>162</td>\n",
       "      <td>N</td>\n",
       "      <td>1.1</td>\n",
       "      <td>Up</td>\n",
       "      <td>0</td>\n",
       "      <td>0</td>\n",
       "    </tr>\n",
       "    <tr>\n",
       "      <th>320</th>\n",
       "      <td>59</td>\n",
       "      <td>M</td>\n",
       "      <td>NAP</td>\n",
       "      <td>125</td>\n",
       "      <td>0</td>\n",
       "      <td>1</td>\n",
       "      <td>Normal</td>\n",
       "      <td>175</td>\n",
       "      <td>N</td>\n",
       "      <td>2.6</td>\n",
       "      <td>Flat</td>\n",
       "      <td>1</td>\n",
       "      <td>1</td>\n",
       "    </tr>\n",
       "  </tbody>\n",
       "</table>\n",
       "</div>"
      ],
      "text/plain": [
       "     Age Sex ChestPainType  RestingBP  Cholesterol  FastingBS RestingECG  \\\n",
       "641   46   F           ASY        138          243          0        LVH   \n",
       "125   54   M           ATA        120          246          0     Normal   \n",
       "657   44   M           NAP        130          233          0     Normal   \n",
       "502   69   M           ASY        140          208          0         ST   \n",
       "660   58   M           NAP        140          211          1        LVH   \n",
       "858   62   F           ASY        140          268          0        LVH   \n",
       "58    54   M           ASY        150          365          0         ST   \n",
       "414   54   M           ASY        130            0          1     Normal   \n",
       "714   50   F           ATA        120          244          0     Normal   \n",
       "320   59   M           NAP        125            0          1     Normal   \n",
       "\n",
       "     MaxHR ExerciseAngina  Oldpeak ST_Slope  HeartDisease  Label Sex  \n",
       "641    152              Y      0.0     Flat             0          0  \n",
       "125    110              N      0.0       Up             0          1  \n",
       "657    179              Y      0.4       Up             0          1  \n",
       "502    140              Y      2.0     Flat             1          1  \n",
       "660    165              N      0.0       Up             0          1  \n",
       "858    160              N      3.6     Down             1          0  \n",
       "58     134              N      1.0       Up             0          1  \n",
       "414    110              Y      3.0     Flat             1          1  \n",
       "714    162              N      1.1       Up             0          0  \n",
       "320    175              N      2.6     Flat             1          1  "
      ]
     },
     "execution_count": 26,
     "metadata": {},
     "output_type": "execute_result"
    }
   ],
   "source": [
    "dataset.sample(10)  # BRING 10 sample"
   ]
  },
  {
   "cell_type": "code",
   "execution_count": 27,
   "id": "6bff273f",
   "metadata": {},
   "outputs": [],
   "source": [
    "dataset['Label ChestPainType'] = labelChestPainType.fit_transform(dataset['ChestPainType'])"
   ]
  },
  {
   "cell_type": "code",
   "execution_count": 28,
   "id": "41573510",
   "metadata": {},
   "outputs": [
    {
     "data": {
      "text/html": [
       "<div>\n",
       "<style scoped>\n",
       "    .dataframe tbody tr th:only-of-type {\n",
       "        vertical-align: middle;\n",
       "    }\n",
       "\n",
       "    .dataframe tbody tr th {\n",
       "        vertical-align: top;\n",
       "    }\n",
       "\n",
       "    .dataframe thead th {\n",
       "        text-align: right;\n",
       "    }\n",
       "</style>\n",
       "<table border=\"1\" class=\"dataframe\">\n",
       "  <thead>\n",
       "    <tr style=\"text-align: right;\">\n",
       "      <th></th>\n",
       "      <th>Age</th>\n",
       "      <th>Sex</th>\n",
       "      <th>ChestPainType</th>\n",
       "      <th>RestingBP</th>\n",
       "      <th>Cholesterol</th>\n",
       "      <th>FastingBS</th>\n",
       "      <th>RestingECG</th>\n",
       "      <th>MaxHR</th>\n",
       "      <th>ExerciseAngina</th>\n",
       "      <th>Oldpeak</th>\n",
       "      <th>ST_Slope</th>\n",
       "      <th>HeartDisease</th>\n",
       "      <th>Label Sex</th>\n",
       "      <th>Label ChestPainType</th>\n",
       "    </tr>\n",
       "  </thead>\n",
       "  <tbody>\n",
       "    <tr>\n",
       "      <th>885</th>\n",
       "      <td>53</td>\n",
       "      <td>F</td>\n",
       "      <td>NAP</td>\n",
       "      <td>128</td>\n",
       "      <td>216</td>\n",
       "      <td>0</td>\n",
       "      <td>LVH</td>\n",
       "      <td>115</td>\n",
       "      <td>N</td>\n",
       "      <td>0.0</td>\n",
       "      <td>Up</td>\n",
       "      <td>0</td>\n",
       "      <td>0</td>\n",
       "      <td>2</td>\n",
       "    </tr>\n",
       "    <tr>\n",
       "      <th>493</th>\n",
       "      <td>51</td>\n",
       "      <td>M</td>\n",
       "      <td>NAP</td>\n",
       "      <td>137</td>\n",
       "      <td>339</td>\n",
       "      <td>0</td>\n",
       "      <td>Normal</td>\n",
       "      <td>127</td>\n",
       "      <td>Y</td>\n",
       "      <td>1.7</td>\n",
       "      <td>Flat</td>\n",
       "      <td>1</td>\n",
       "      <td>1</td>\n",
       "      <td>2</td>\n",
       "    </tr>\n",
       "    <tr>\n",
       "      <th>63</th>\n",
       "      <td>46</td>\n",
       "      <td>M</td>\n",
       "      <td>ASY</td>\n",
       "      <td>120</td>\n",
       "      <td>277</td>\n",
       "      <td>0</td>\n",
       "      <td>Normal</td>\n",
       "      <td>125</td>\n",
       "      <td>Y</td>\n",
       "      <td>1.0</td>\n",
       "      <td>Flat</td>\n",
       "      <td>1</td>\n",
       "      <td>1</td>\n",
       "      <td>0</td>\n",
       "    </tr>\n",
       "    <tr>\n",
       "      <th>144</th>\n",
       "      <td>56</td>\n",
       "      <td>F</td>\n",
       "      <td>ATA</td>\n",
       "      <td>120</td>\n",
       "      <td>279</td>\n",
       "      <td>0</td>\n",
       "      <td>Normal</td>\n",
       "      <td>150</td>\n",
       "      <td>N</td>\n",
       "      <td>1.0</td>\n",
       "      <td>Flat</td>\n",
       "      <td>1</td>\n",
       "      <td>0</td>\n",
       "      <td>1</td>\n",
       "    </tr>\n",
       "    <tr>\n",
       "      <th>394</th>\n",
       "      <td>57</td>\n",
       "      <td>M</td>\n",
       "      <td>ASY</td>\n",
       "      <td>160</td>\n",
       "      <td>0</td>\n",
       "      <td>1</td>\n",
       "      <td>Normal</td>\n",
       "      <td>98</td>\n",
       "      <td>Y</td>\n",
       "      <td>2.0</td>\n",
       "      <td>Flat</td>\n",
       "      <td>1</td>\n",
       "      <td>1</td>\n",
       "      <td>0</td>\n",
       "    </tr>\n",
       "    <tr>\n",
       "      <th>395</th>\n",
       "      <td>38</td>\n",
       "      <td>M</td>\n",
       "      <td>ASY</td>\n",
       "      <td>135</td>\n",
       "      <td>0</td>\n",
       "      <td>1</td>\n",
       "      <td>Normal</td>\n",
       "      <td>150</td>\n",
       "      <td>N</td>\n",
       "      <td>0.0</td>\n",
       "      <td>Flat</td>\n",
       "      <td>1</td>\n",
       "      <td>1</td>\n",
       "      <td>0</td>\n",
       "    </tr>\n",
       "    <tr>\n",
       "      <th>765</th>\n",
       "      <td>41</td>\n",
       "      <td>M</td>\n",
       "      <td>NAP</td>\n",
       "      <td>112</td>\n",
       "      <td>250</td>\n",
       "      <td>0</td>\n",
       "      <td>Normal</td>\n",
       "      <td>179</td>\n",
       "      <td>N</td>\n",
       "      <td>0.0</td>\n",
       "      <td>Up</td>\n",
       "      <td>0</td>\n",
       "      <td>1</td>\n",
       "      <td>2</td>\n",
       "    </tr>\n",
       "    <tr>\n",
       "      <th>520</th>\n",
       "      <td>64</td>\n",
       "      <td>M</td>\n",
       "      <td>ASY</td>\n",
       "      <td>130</td>\n",
       "      <td>223</td>\n",
       "      <td>0</td>\n",
       "      <td>ST</td>\n",
       "      <td>128</td>\n",
       "      <td>N</td>\n",
       "      <td>0.5</td>\n",
       "      <td>Flat</td>\n",
       "      <td>0</td>\n",
       "      <td>1</td>\n",
       "      <td>0</td>\n",
       "    </tr>\n",
       "    <tr>\n",
       "      <th>206</th>\n",
       "      <td>35</td>\n",
       "      <td>M</td>\n",
       "      <td>ATA</td>\n",
       "      <td>120</td>\n",
       "      <td>308</td>\n",
       "      <td>0</td>\n",
       "      <td>LVH</td>\n",
       "      <td>180</td>\n",
       "      <td>N</td>\n",
       "      <td>0.0</td>\n",
       "      <td>Up</td>\n",
       "      <td>0</td>\n",
       "      <td>1</td>\n",
       "      <td>1</td>\n",
       "    </tr>\n",
       "    <tr>\n",
       "      <th>168</th>\n",
       "      <td>58</td>\n",
       "      <td>M</td>\n",
       "      <td>ASY</td>\n",
       "      <td>135</td>\n",
       "      <td>222</td>\n",
       "      <td>0</td>\n",
       "      <td>Normal</td>\n",
       "      <td>100</td>\n",
       "      <td>N</td>\n",
       "      <td>0.0</td>\n",
       "      <td>Up</td>\n",
       "      <td>0</td>\n",
       "      <td>1</td>\n",
       "      <td>0</td>\n",
       "    </tr>\n",
       "  </tbody>\n",
       "</table>\n",
       "</div>"
      ],
      "text/plain": [
       "     Age Sex ChestPainType  RestingBP  Cholesterol  FastingBS RestingECG  \\\n",
       "885   53   F           NAP        128          216          0        LVH   \n",
       "493   51   M           NAP        137          339          0     Normal   \n",
       "63    46   M           ASY        120          277          0     Normal   \n",
       "144   56   F           ATA        120          279          0     Normal   \n",
       "394   57   M           ASY        160            0          1     Normal   \n",
       "395   38   M           ASY        135            0          1     Normal   \n",
       "765   41   M           NAP        112          250          0     Normal   \n",
       "520   64   M           ASY        130          223          0         ST   \n",
       "206   35   M           ATA        120          308          0        LVH   \n",
       "168   58   M           ASY        135          222          0     Normal   \n",
       "\n",
       "     MaxHR ExerciseAngina  Oldpeak ST_Slope  HeartDisease  Label Sex  \\\n",
       "885    115              N      0.0       Up             0          0   \n",
       "493    127              Y      1.7     Flat             1          1   \n",
       "63     125              Y      1.0     Flat             1          1   \n",
       "144    150              N      1.0     Flat             1          0   \n",
       "394     98              Y      2.0     Flat             1          1   \n",
       "395    150              N      0.0     Flat             1          1   \n",
       "765    179              N      0.0       Up             0          1   \n",
       "520    128              N      0.5     Flat             0          1   \n",
       "206    180              N      0.0       Up             0          1   \n",
       "168    100              N      0.0       Up             0          1   \n",
       "\n",
       "     Label ChestPainType  \n",
       "885                    2  \n",
       "493                    2  \n",
       "63                     0  \n",
       "144                    1  \n",
       "394                    0  \n",
       "395                    0  \n",
       "765                    2  \n",
       "520                    0  \n",
       "206                    1  \n",
       "168                    0  "
      ]
     },
     "execution_count": 28,
     "metadata": {},
     "output_type": "execute_result"
    }
   ],
   "source": [
    "dataset.sample(10)"
   ]
  },
  {
   "cell_type": "code",
   "execution_count": 29,
   "id": "8589379a",
   "metadata": {},
   "outputs": [],
   "source": [
    "dataset['Label RestingECG'] = labelRestingECG.fit_transform(dataset['RestingECG'])"
   ]
  },
  {
   "cell_type": "code",
   "execution_count": 30,
   "id": "a793f146",
   "metadata": {},
   "outputs": [
    {
     "data": {
      "text/html": [
       "<div>\n",
       "<style scoped>\n",
       "    .dataframe tbody tr th:only-of-type {\n",
       "        vertical-align: middle;\n",
       "    }\n",
       "\n",
       "    .dataframe tbody tr th {\n",
       "        vertical-align: top;\n",
       "    }\n",
       "\n",
       "    .dataframe thead th {\n",
       "        text-align: right;\n",
       "    }\n",
       "</style>\n",
       "<table border=\"1\" class=\"dataframe\">\n",
       "  <thead>\n",
       "    <tr style=\"text-align: right;\">\n",
       "      <th></th>\n",
       "      <th>Age</th>\n",
       "      <th>Sex</th>\n",
       "      <th>ChestPainType</th>\n",
       "      <th>RestingBP</th>\n",
       "      <th>Cholesterol</th>\n",
       "      <th>FastingBS</th>\n",
       "      <th>RestingECG</th>\n",
       "      <th>MaxHR</th>\n",
       "      <th>ExerciseAngina</th>\n",
       "      <th>Oldpeak</th>\n",
       "      <th>ST_Slope</th>\n",
       "      <th>HeartDisease</th>\n",
       "      <th>Label Sex</th>\n",
       "      <th>Label ChestPainType</th>\n",
       "      <th>Label RestingECG</th>\n",
       "    </tr>\n",
       "  </thead>\n",
       "  <tbody>\n",
       "    <tr>\n",
       "      <th>412</th>\n",
       "      <td>56</td>\n",
       "      <td>M</td>\n",
       "      <td>ASY</td>\n",
       "      <td>125</td>\n",
       "      <td>0</td>\n",
       "      <td>1</td>\n",
       "      <td>Normal</td>\n",
       "      <td>103</td>\n",
       "      <td>Y</td>\n",
       "      <td>1.0</td>\n",
       "      <td>Flat</td>\n",
       "      <td>1</td>\n",
       "      <td>1</td>\n",
       "      <td>0</td>\n",
       "      <td>1</td>\n",
       "    </tr>\n",
       "    <tr>\n",
       "      <th>508</th>\n",
       "      <td>67</td>\n",
       "      <td>M</td>\n",
       "      <td>ASY</td>\n",
       "      <td>120</td>\n",
       "      <td>0</td>\n",
       "      <td>1</td>\n",
       "      <td>Normal</td>\n",
       "      <td>150</td>\n",
       "      <td>N</td>\n",
       "      <td>1.5</td>\n",
       "      <td>Down</td>\n",
       "      <td>1</td>\n",
       "      <td>1</td>\n",
       "      <td>0</td>\n",
       "      <td>1</td>\n",
       "    </tr>\n",
       "    <tr>\n",
       "      <th>409</th>\n",
       "      <td>53</td>\n",
       "      <td>M</td>\n",
       "      <td>NAP</td>\n",
       "      <td>160</td>\n",
       "      <td>0</td>\n",
       "      <td>1</td>\n",
       "      <td>LVH</td>\n",
       "      <td>122</td>\n",
       "      <td>Y</td>\n",
       "      <td>0.0</td>\n",
       "      <td>Flat</td>\n",
       "      <td>1</td>\n",
       "      <td>1</td>\n",
       "      <td>2</td>\n",
       "      <td>0</td>\n",
       "    </tr>\n",
       "    <tr>\n",
       "      <th>837</th>\n",
       "      <td>57</td>\n",
       "      <td>M</td>\n",
       "      <td>NAP</td>\n",
       "      <td>150</td>\n",
       "      <td>168</td>\n",
       "      <td>0</td>\n",
       "      <td>Normal</td>\n",
       "      <td>174</td>\n",
       "      <td>N</td>\n",
       "      <td>1.6</td>\n",
       "      <td>Up</td>\n",
       "      <td>0</td>\n",
       "      <td>1</td>\n",
       "      <td>2</td>\n",
       "      <td>1</td>\n",
       "    </tr>\n",
       "    <tr>\n",
       "      <th>823</th>\n",
       "      <td>64</td>\n",
       "      <td>M</td>\n",
       "      <td>NAP</td>\n",
       "      <td>125</td>\n",
       "      <td>309</td>\n",
       "      <td>0</td>\n",
       "      <td>Normal</td>\n",
       "      <td>131</td>\n",
       "      <td>Y</td>\n",
       "      <td>1.8</td>\n",
       "      <td>Flat</td>\n",
       "      <td>1</td>\n",
       "      <td>1</td>\n",
       "      <td>2</td>\n",
       "      <td>1</td>\n",
       "    </tr>\n",
       "    <tr>\n",
       "      <th>254</th>\n",
       "      <td>55</td>\n",
       "      <td>M</td>\n",
       "      <td>ASY</td>\n",
       "      <td>145</td>\n",
       "      <td>248</td>\n",
       "      <td>0</td>\n",
       "      <td>Normal</td>\n",
       "      <td>96</td>\n",
       "      <td>Y</td>\n",
       "      <td>2.0</td>\n",
       "      <td>Flat</td>\n",
       "      <td>1</td>\n",
       "      <td>1</td>\n",
       "      <td>0</td>\n",
       "      <td>1</td>\n",
       "    </tr>\n",
       "    <tr>\n",
       "      <th>628</th>\n",
       "      <td>61</td>\n",
       "      <td>M</td>\n",
       "      <td>TA</td>\n",
       "      <td>134</td>\n",
       "      <td>234</td>\n",
       "      <td>0</td>\n",
       "      <td>Normal</td>\n",
       "      <td>145</td>\n",
       "      <td>N</td>\n",
       "      <td>2.6</td>\n",
       "      <td>Flat</td>\n",
       "      <td>1</td>\n",
       "      <td>1</td>\n",
       "      <td>3</td>\n",
       "      <td>1</td>\n",
       "    </tr>\n",
       "    <tr>\n",
       "      <th>62</th>\n",
       "      <td>45</td>\n",
       "      <td>M</td>\n",
       "      <td>ASY</td>\n",
       "      <td>140</td>\n",
       "      <td>224</td>\n",
       "      <td>0</td>\n",
       "      <td>Normal</td>\n",
       "      <td>144</td>\n",
       "      <td>N</td>\n",
       "      <td>0.0</td>\n",
       "      <td>Up</td>\n",
       "      <td>0</td>\n",
       "      <td>1</td>\n",
       "      <td>0</td>\n",
       "      <td>1</td>\n",
       "    </tr>\n",
       "    <tr>\n",
       "      <th>95</th>\n",
       "      <td>58</td>\n",
       "      <td>M</td>\n",
       "      <td>ASY</td>\n",
       "      <td>130</td>\n",
       "      <td>263</td>\n",
       "      <td>0</td>\n",
       "      <td>Normal</td>\n",
       "      <td>140</td>\n",
       "      <td>Y</td>\n",
       "      <td>2.0</td>\n",
       "      <td>Flat</td>\n",
       "      <td>1</td>\n",
       "      <td>1</td>\n",
       "      <td>0</td>\n",
       "      <td>1</td>\n",
       "    </tr>\n",
       "    <tr>\n",
       "      <th>94</th>\n",
       "      <td>39</td>\n",
       "      <td>F</td>\n",
       "      <td>NAP</td>\n",
       "      <td>110</td>\n",
       "      <td>182</td>\n",
       "      <td>0</td>\n",
       "      <td>ST</td>\n",
       "      <td>180</td>\n",
       "      <td>N</td>\n",
       "      <td>0.0</td>\n",
       "      <td>Up</td>\n",
       "      <td>0</td>\n",
       "      <td>0</td>\n",
       "      <td>2</td>\n",
       "      <td>2</td>\n",
       "    </tr>\n",
       "  </tbody>\n",
       "</table>\n",
       "</div>"
      ],
      "text/plain": [
       "     Age Sex ChestPainType  RestingBP  Cholesterol  FastingBS RestingECG  \\\n",
       "412   56   M           ASY        125            0          1     Normal   \n",
       "508   67   M           ASY        120            0          1     Normal   \n",
       "409   53   M           NAP        160            0          1        LVH   \n",
       "837   57   M           NAP        150          168          0     Normal   \n",
       "823   64   M           NAP        125          309          0     Normal   \n",
       "254   55   M           ASY        145          248          0     Normal   \n",
       "628   61   M            TA        134          234          0     Normal   \n",
       "62    45   M           ASY        140          224          0     Normal   \n",
       "95    58   M           ASY        130          263          0     Normal   \n",
       "94    39   F           NAP        110          182          0         ST   \n",
       "\n",
       "     MaxHR ExerciseAngina  Oldpeak ST_Slope  HeartDisease  Label Sex  \\\n",
       "412    103              Y      1.0     Flat             1          1   \n",
       "508    150              N      1.5     Down             1          1   \n",
       "409    122              Y      0.0     Flat             1          1   \n",
       "837    174              N      1.6       Up             0          1   \n",
       "823    131              Y      1.8     Flat             1          1   \n",
       "254     96              Y      2.0     Flat             1          1   \n",
       "628    145              N      2.6     Flat             1          1   \n",
       "62     144              N      0.0       Up             0          1   \n",
       "95     140              Y      2.0     Flat             1          1   \n",
       "94     180              N      0.0       Up             0          0   \n",
       "\n",
       "     Label ChestPainType  Label RestingECG  \n",
       "412                    0                 1  \n",
       "508                    0                 1  \n",
       "409                    2                 0  \n",
       "837                    2                 1  \n",
       "823                    2                 1  \n",
       "254                    0                 1  \n",
       "628                    3                 1  \n",
       "62                     0                 1  \n",
       "95                     0                 1  \n",
       "94                     2                 2  "
      ]
     },
     "execution_count": 30,
     "metadata": {},
     "output_type": "execute_result"
    }
   ],
   "source": [
    "dataset.sample(10)"
   ]
  },
  {
   "cell_type": "code",
   "execution_count": 31,
   "id": "1a6cca82",
   "metadata": {},
   "outputs": [],
   "source": [
    "dataset['Label ExerciseAngina'] = labelExerciseAngina.fit_transform(dataset['ExerciseAngina'])"
   ]
  },
  {
   "cell_type": "code",
   "execution_count": 32,
   "id": "9f6e0937",
   "metadata": {},
   "outputs": [
    {
     "data": {
      "text/html": [
       "<div>\n",
       "<style scoped>\n",
       "    .dataframe tbody tr th:only-of-type {\n",
       "        vertical-align: middle;\n",
       "    }\n",
       "\n",
       "    .dataframe tbody tr th {\n",
       "        vertical-align: top;\n",
       "    }\n",
       "\n",
       "    .dataframe thead th {\n",
       "        text-align: right;\n",
       "    }\n",
       "</style>\n",
       "<table border=\"1\" class=\"dataframe\">\n",
       "  <thead>\n",
       "    <tr style=\"text-align: right;\">\n",
       "      <th></th>\n",
       "      <th>Age</th>\n",
       "      <th>Sex</th>\n",
       "      <th>ChestPainType</th>\n",
       "      <th>RestingBP</th>\n",
       "      <th>Cholesterol</th>\n",
       "      <th>FastingBS</th>\n",
       "      <th>RestingECG</th>\n",
       "      <th>MaxHR</th>\n",
       "      <th>ExerciseAngina</th>\n",
       "      <th>Oldpeak</th>\n",
       "      <th>ST_Slope</th>\n",
       "      <th>HeartDisease</th>\n",
       "      <th>Label Sex</th>\n",
       "      <th>Label ChestPainType</th>\n",
       "      <th>Label RestingECG</th>\n",
       "      <th>Label ExerciseAngina</th>\n",
       "    </tr>\n",
       "  </thead>\n",
       "  <tbody>\n",
       "    <tr>\n",
       "      <th>88</th>\n",
       "      <td>43</td>\n",
       "      <td>M</td>\n",
       "      <td>TA</td>\n",
       "      <td>120</td>\n",
       "      <td>291</td>\n",
       "      <td>0</td>\n",
       "      <td>ST</td>\n",
       "      <td>155</td>\n",
       "      <td>N</td>\n",
       "      <td>0.0</td>\n",
       "      <td>Flat</td>\n",
       "      <td>1</td>\n",
       "      <td>1</td>\n",
       "      <td>3</td>\n",
       "      <td>2</td>\n",
       "      <td>0</td>\n",
       "    </tr>\n",
       "    <tr>\n",
       "      <th>550</th>\n",
       "      <td>55</td>\n",
       "      <td>M</td>\n",
       "      <td>ASY</td>\n",
       "      <td>172</td>\n",
       "      <td>260</td>\n",
       "      <td>0</td>\n",
       "      <td>Normal</td>\n",
       "      <td>73</td>\n",
       "      <td>N</td>\n",
       "      <td>2.0</td>\n",
       "      <td>Flat</td>\n",
       "      <td>1</td>\n",
       "      <td>1</td>\n",
       "      <td>0</td>\n",
       "      <td>1</td>\n",
       "      <td>0</td>\n",
       "    </tr>\n",
       "    <tr>\n",
       "      <th>900</th>\n",
       "      <td>58</td>\n",
       "      <td>M</td>\n",
       "      <td>ASY</td>\n",
       "      <td>114</td>\n",
       "      <td>318</td>\n",
       "      <td>0</td>\n",
       "      <td>ST</td>\n",
       "      <td>140</td>\n",
       "      <td>N</td>\n",
       "      <td>4.4</td>\n",
       "      <td>Down</td>\n",
       "      <td>1</td>\n",
       "      <td>1</td>\n",
       "      <td>0</td>\n",
       "      <td>2</td>\n",
       "      <td>0</td>\n",
       "    </tr>\n",
       "    <tr>\n",
       "      <th>547</th>\n",
       "      <td>61</td>\n",
       "      <td>M</td>\n",
       "      <td>TA</td>\n",
       "      <td>142</td>\n",
       "      <td>200</td>\n",
       "      <td>1</td>\n",
       "      <td>ST</td>\n",
       "      <td>100</td>\n",
       "      <td>N</td>\n",
       "      <td>1.5</td>\n",
       "      <td>Down</td>\n",
       "      <td>1</td>\n",
       "      <td>1</td>\n",
       "      <td>3</td>\n",
       "      <td>2</td>\n",
       "      <td>0</td>\n",
       "    </tr>\n",
       "    <tr>\n",
       "      <th>290</th>\n",
       "      <td>48</td>\n",
       "      <td>M</td>\n",
       "      <td>NAP</td>\n",
       "      <td>110</td>\n",
       "      <td>211</td>\n",
       "      <td>0</td>\n",
       "      <td>Normal</td>\n",
       "      <td>138</td>\n",
       "      <td>N</td>\n",
       "      <td>0.0</td>\n",
       "      <td>Up</td>\n",
       "      <td>0</td>\n",
       "      <td>1</td>\n",
       "      <td>2</td>\n",
       "      <td>1</td>\n",
       "      <td>0</td>\n",
       "    </tr>\n",
       "    <tr>\n",
       "      <th>716</th>\n",
       "      <td>67</td>\n",
       "      <td>M</td>\n",
       "      <td>ASY</td>\n",
       "      <td>120</td>\n",
       "      <td>237</td>\n",
       "      <td>0</td>\n",
       "      <td>Normal</td>\n",
       "      <td>71</td>\n",
       "      <td>N</td>\n",
       "      <td>1.0</td>\n",
       "      <td>Flat</td>\n",
       "      <td>1</td>\n",
       "      <td>1</td>\n",
       "      <td>0</td>\n",
       "      <td>1</td>\n",
       "      <td>0</td>\n",
       "    </tr>\n",
       "    <tr>\n",
       "      <th>206</th>\n",
       "      <td>35</td>\n",
       "      <td>M</td>\n",
       "      <td>ATA</td>\n",
       "      <td>120</td>\n",
       "      <td>308</td>\n",
       "      <td>0</td>\n",
       "      <td>LVH</td>\n",
       "      <td>180</td>\n",
       "      <td>N</td>\n",
       "      <td>0.0</td>\n",
       "      <td>Up</td>\n",
       "      <td>0</td>\n",
       "      <td>1</td>\n",
       "      <td>1</td>\n",
       "      <td>0</td>\n",
       "      <td>0</td>\n",
       "    </tr>\n",
       "    <tr>\n",
       "      <th>702</th>\n",
       "      <td>59</td>\n",
       "      <td>M</td>\n",
       "      <td>TA</td>\n",
       "      <td>178</td>\n",
       "      <td>270</td>\n",
       "      <td>0</td>\n",
       "      <td>LVH</td>\n",
       "      <td>145</td>\n",
       "      <td>N</td>\n",
       "      <td>4.2</td>\n",
       "      <td>Down</td>\n",
       "      <td>0</td>\n",
       "      <td>1</td>\n",
       "      <td>3</td>\n",
       "      <td>0</td>\n",
       "      <td>0</td>\n",
       "    </tr>\n",
       "    <tr>\n",
       "      <th>525</th>\n",
       "      <td>45</td>\n",
       "      <td>M</td>\n",
       "      <td>NAP</td>\n",
       "      <td>130</td>\n",
       "      <td>236</td>\n",
       "      <td>0</td>\n",
       "      <td>Normal</td>\n",
       "      <td>144</td>\n",
       "      <td>N</td>\n",
       "      <td>0.1</td>\n",
       "      <td>Up</td>\n",
       "      <td>0</td>\n",
       "      <td>1</td>\n",
       "      <td>2</td>\n",
       "      <td>1</td>\n",
       "      <td>0</td>\n",
       "    </tr>\n",
       "    <tr>\n",
       "      <th>52</th>\n",
       "      <td>45</td>\n",
       "      <td>M</td>\n",
       "      <td>ATA</td>\n",
       "      <td>140</td>\n",
       "      <td>224</td>\n",
       "      <td>1</td>\n",
       "      <td>Normal</td>\n",
       "      <td>122</td>\n",
       "      <td>N</td>\n",
       "      <td>0.0</td>\n",
       "      <td>Up</td>\n",
       "      <td>0</td>\n",
       "      <td>1</td>\n",
       "      <td>1</td>\n",
       "      <td>1</td>\n",
       "      <td>0</td>\n",
       "    </tr>\n",
       "  </tbody>\n",
       "</table>\n",
       "</div>"
      ],
      "text/plain": [
       "     Age Sex ChestPainType  RestingBP  Cholesterol  FastingBS RestingECG  \\\n",
       "88    43   M            TA        120          291          0         ST   \n",
       "550   55   M           ASY        172          260          0     Normal   \n",
       "900   58   M           ASY        114          318          0         ST   \n",
       "547   61   M            TA        142          200          1         ST   \n",
       "290   48   M           NAP        110          211          0     Normal   \n",
       "716   67   M           ASY        120          237          0     Normal   \n",
       "206   35   M           ATA        120          308          0        LVH   \n",
       "702   59   M            TA        178          270          0        LVH   \n",
       "525   45   M           NAP        130          236          0     Normal   \n",
       "52    45   M           ATA        140          224          1     Normal   \n",
       "\n",
       "     MaxHR ExerciseAngina  Oldpeak ST_Slope  HeartDisease  Label Sex  \\\n",
       "88     155              N      0.0     Flat             1          1   \n",
       "550     73              N      2.0     Flat             1          1   \n",
       "900    140              N      4.4     Down             1          1   \n",
       "547    100              N      1.5     Down             1          1   \n",
       "290    138              N      0.0       Up             0          1   \n",
       "716     71              N      1.0     Flat             1          1   \n",
       "206    180              N      0.0       Up             0          1   \n",
       "702    145              N      4.2     Down             0          1   \n",
       "525    144              N      0.1       Up             0          1   \n",
       "52     122              N      0.0       Up             0          1   \n",
       "\n",
       "     Label ChestPainType  Label RestingECG  Label ExerciseAngina  \n",
       "88                     3                 2                     0  \n",
       "550                    0                 1                     0  \n",
       "900                    0                 2                     0  \n",
       "547                    3                 2                     0  \n",
       "290                    2                 1                     0  \n",
       "716                    0                 1                     0  \n",
       "206                    1                 0                     0  \n",
       "702                    3                 0                     0  \n",
       "525                    2                 1                     0  \n",
       "52                     1                 1                     0  "
      ]
     },
     "execution_count": 32,
     "metadata": {},
     "output_type": "execute_result"
    }
   ],
   "source": [
    "dataset.sample(10)"
   ]
  },
  {
   "cell_type": "code",
   "execution_count": 33,
   "id": "88b5b733",
   "metadata": {},
   "outputs": [],
   "source": [
    "dataset['Label ST_Slope'] = labelST_Slope.fit_transform(dataset['ST_Slope'])"
   ]
  },
  {
   "cell_type": "code",
   "execution_count": 34,
   "id": "65505c62",
   "metadata": {},
   "outputs": [
    {
     "data": {
      "text/html": [
       "<div>\n",
       "<style scoped>\n",
       "    .dataframe tbody tr th:only-of-type {\n",
       "        vertical-align: middle;\n",
       "    }\n",
       "\n",
       "    .dataframe tbody tr th {\n",
       "        vertical-align: top;\n",
       "    }\n",
       "\n",
       "    .dataframe thead th {\n",
       "        text-align: right;\n",
       "    }\n",
       "</style>\n",
       "<table border=\"1\" class=\"dataframe\">\n",
       "  <thead>\n",
       "    <tr style=\"text-align: right;\">\n",
       "      <th></th>\n",
       "      <th>Age</th>\n",
       "      <th>Sex</th>\n",
       "      <th>ChestPainType</th>\n",
       "      <th>RestingBP</th>\n",
       "      <th>Cholesterol</th>\n",
       "      <th>FastingBS</th>\n",
       "      <th>RestingECG</th>\n",
       "      <th>MaxHR</th>\n",
       "      <th>ExerciseAngina</th>\n",
       "      <th>Oldpeak</th>\n",
       "      <th>ST_Slope</th>\n",
       "      <th>HeartDisease</th>\n",
       "      <th>Label Sex</th>\n",
       "      <th>Label ChestPainType</th>\n",
       "      <th>Label RestingECG</th>\n",
       "      <th>Label ExerciseAngina</th>\n",
       "      <th>Label ST_Slope</th>\n",
       "    </tr>\n",
       "  </thead>\n",
       "  <tbody>\n",
       "    <tr>\n",
       "      <th>625</th>\n",
       "      <td>59</td>\n",
       "      <td>M</td>\n",
       "      <td>ASY</td>\n",
       "      <td>135</td>\n",
       "      <td>234</td>\n",
       "      <td>0</td>\n",
       "      <td>Normal</td>\n",
       "      <td>161</td>\n",
       "      <td>N</td>\n",
       "      <td>0.5</td>\n",
       "      <td>Flat</td>\n",
       "      <td>0</td>\n",
       "      <td>1</td>\n",
       "      <td>0</td>\n",
       "      <td>1</td>\n",
       "      <td>0</td>\n",
       "      <td>1</td>\n",
       "    </tr>\n",
       "    <tr>\n",
       "      <th>548</th>\n",
       "      <td>66</td>\n",
       "      <td>M</td>\n",
       "      <td>ASY</td>\n",
       "      <td>112</td>\n",
       "      <td>261</td>\n",
       "      <td>0</td>\n",
       "      <td>Normal</td>\n",
       "      <td>140</td>\n",
       "      <td>N</td>\n",
       "      <td>1.5</td>\n",
       "      <td>Up</td>\n",
       "      <td>1</td>\n",
       "      <td>1</td>\n",
       "      <td>0</td>\n",
       "      <td>1</td>\n",
       "      <td>0</td>\n",
       "      <td>2</td>\n",
       "    </tr>\n",
       "    <tr>\n",
       "      <th>467</th>\n",
       "      <td>63</td>\n",
       "      <td>F</td>\n",
       "      <td>ATA</td>\n",
       "      <td>132</td>\n",
       "      <td>0</td>\n",
       "      <td>0</td>\n",
       "      <td>Normal</td>\n",
       "      <td>130</td>\n",
       "      <td>N</td>\n",
       "      <td>0.1</td>\n",
       "      <td>Up</td>\n",
       "      <td>0</td>\n",
       "      <td>0</td>\n",
       "      <td>1</td>\n",
       "      <td>1</td>\n",
       "      <td>0</td>\n",
       "      <td>2</td>\n",
       "    </tr>\n",
       "    <tr>\n",
       "      <th>627</th>\n",
       "      <td>44</td>\n",
       "      <td>M</td>\n",
       "      <td>NAP</td>\n",
       "      <td>140</td>\n",
       "      <td>235</td>\n",
       "      <td>0</td>\n",
       "      <td>LVH</td>\n",
       "      <td>180</td>\n",
       "      <td>N</td>\n",
       "      <td>0.0</td>\n",
       "      <td>Up</td>\n",
       "      <td>0</td>\n",
       "      <td>1</td>\n",
       "      <td>2</td>\n",
       "      <td>0</td>\n",
       "      <td>0</td>\n",
       "      <td>2</td>\n",
       "    </tr>\n",
       "    <tr>\n",
       "      <th>640</th>\n",
       "      <td>48</td>\n",
       "      <td>F</td>\n",
       "      <td>NAP</td>\n",
       "      <td>130</td>\n",
       "      <td>275</td>\n",
       "      <td>0</td>\n",
       "      <td>Normal</td>\n",
       "      <td>139</td>\n",
       "      <td>N</td>\n",
       "      <td>0.2</td>\n",
       "      <td>Up</td>\n",
       "      <td>0</td>\n",
       "      <td>0</td>\n",
       "      <td>2</td>\n",
       "      <td>1</td>\n",
       "      <td>0</td>\n",
       "      <td>2</td>\n",
       "    </tr>\n",
       "    <tr>\n",
       "      <th>259</th>\n",
       "      <td>55</td>\n",
       "      <td>F</td>\n",
       "      <td>ATA</td>\n",
       "      <td>122</td>\n",
       "      <td>320</td>\n",
       "      <td>0</td>\n",
       "      <td>Normal</td>\n",
       "      <td>155</td>\n",
       "      <td>N</td>\n",
       "      <td>0.0</td>\n",
       "      <td>Up</td>\n",
       "      <td>0</td>\n",
       "      <td>0</td>\n",
       "      <td>1</td>\n",
       "      <td>1</td>\n",
       "      <td>0</td>\n",
       "      <td>2</td>\n",
       "    </tr>\n",
       "    <tr>\n",
       "      <th>564</th>\n",
       "      <td>57</td>\n",
       "      <td>M</td>\n",
       "      <td>ASY</td>\n",
       "      <td>144</td>\n",
       "      <td>270</td>\n",
       "      <td>1</td>\n",
       "      <td>ST</td>\n",
       "      <td>160</td>\n",
       "      <td>Y</td>\n",
       "      <td>2.0</td>\n",
       "      <td>Flat</td>\n",
       "      <td>1</td>\n",
       "      <td>1</td>\n",
       "      <td>0</td>\n",
       "      <td>2</td>\n",
       "      <td>1</td>\n",
       "      <td>1</td>\n",
       "    </tr>\n",
       "    <tr>\n",
       "      <th>530</th>\n",
       "      <td>50</td>\n",
       "      <td>M</td>\n",
       "      <td>ASY</td>\n",
       "      <td>133</td>\n",
       "      <td>218</td>\n",
       "      <td>0</td>\n",
       "      <td>Normal</td>\n",
       "      <td>128</td>\n",
       "      <td>Y</td>\n",
       "      <td>1.1</td>\n",
       "      <td>Flat</td>\n",
       "      <td>1</td>\n",
       "      <td>1</td>\n",
       "      <td>0</td>\n",
       "      <td>1</td>\n",
       "      <td>1</td>\n",
       "      <td>1</td>\n",
       "    </tr>\n",
       "    <tr>\n",
       "      <th>56</th>\n",
       "      <td>31</td>\n",
       "      <td>M</td>\n",
       "      <td>ASY</td>\n",
       "      <td>120</td>\n",
       "      <td>270</td>\n",
       "      <td>0</td>\n",
       "      <td>Normal</td>\n",
       "      <td>153</td>\n",
       "      <td>Y</td>\n",
       "      <td>1.5</td>\n",
       "      <td>Flat</td>\n",
       "      <td>1</td>\n",
       "      <td>1</td>\n",
       "      <td>0</td>\n",
       "      <td>1</td>\n",
       "      <td>1</td>\n",
       "      <td>1</td>\n",
       "    </tr>\n",
       "    <tr>\n",
       "      <th>419</th>\n",
       "      <td>55</td>\n",
       "      <td>M</td>\n",
       "      <td>ASY</td>\n",
       "      <td>142</td>\n",
       "      <td>228</td>\n",
       "      <td>0</td>\n",
       "      <td>ST</td>\n",
       "      <td>149</td>\n",
       "      <td>Y</td>\n",
       "      <td>2.5</td>\n",
       "      <td>Up</td>\n",
       "      <td>1</td>\n",
       "      <td>1</td>\n",
       "      <td>0</td>\n",
       "      <td>2</td>\n",
       "      <td>1</td>\n",
       "      <td>2</td>\n",
       "    </tr>\n",
       "  </tbody>\n",
       "</table>\n",
       "</div>"
      ],
      "text/plain": [
       "     Age Sex ChestPainType  RestingBP  Cholesterol  FastingBS RestingECG  \\\n",
       "625   59   M           ASY        135          234          0     Normal   \n",
       "548   66   M           ASY        112          261          0     Normal   \n",
       "467   63   F           ATA        132            0          0     Normal   \n",
       "627   44   M           NAP        140          235          0        LVH   \n",
       "640   48   F           NAP        130          275          0     Normal   \n",
       "259   55   F           ATA        122          320          0     Normal   \n",
       "564   57   M           ASY        144          270          1         ST   \n",
       "530   50   M           ASY        133          218          0     Normal   \n",
       "56    31   M           ASY        120          270          0     Normal   \n",
       "419   55   M           ASY        142          228          0         ST   \n",
       "\n",
       "     MaxHR ExerciseAngina  Oldpeak ST_Slope  HeartDisease  Label Sex  \\\n",
       "625    161              N      0.5     Flat             0          1   \n",
       "548    140              N      1.5       Up             1          1   \n",
       "467    130              N      0.1       Up             0          0   \n",
       "627    180              N      0.0       Up             0          1   \n",
       "640    139              N      0.2       Up             0          0   \n",
       "259    155              N      0.0       Up             0          0   \n",
       "564    160              Y      2.0     Flat             1          1   \n",
       "530    128              Y      1.1     Flat             1          1   \n",
       "56     153              Y      1.5     Flat             1          1   \n",
       "419    149              Y      2.5       Up             1          1   \n",
       "\n",
       "     Label ChestPainType  Label RestingECG  Label ExerciseAngina  \\\n",
       "625                    0                 1                     0   \n",
       "548                    0                 1                     0   \n",
       "467                    1                 1                     0   \n",
       "627                    2                 0                     0   \n",
       "640                    2                 1                     0   \n",
       "259                    1                 1                     0   \n",
       "564                    0                 2                     1   \n",
       "530                    0                 1                     1   \n",
       "56                     0                 1                     1   \n",
       "419                    0                 2                     1   \n",
       "\n",
       "     Label ST_Slope  \n",
       "625               1  \n",
       "548               2  \n",
       "467               2  \n",
       "627               2  \n",
       "640               2  \n",
       "259               2  \n",
       "564               1  \n",
       "530               1  \n",
       "56                1  \n",
       "419               2  "
      ]
     },
     "execution_count": 34,
     "metadata": {},
     "output_type": "execute_result"
    }
   ],
   "source": [
    "dataset.sample(10)"
   ]
  },
  {
   "cell_type": "code",
   "execution_count": 35,
   "id": "c91cc412",
   "metadata": {},
   "outputs": [],
   "source": [
    "new_dataset = dataset.drop(['Sex', 'ChestPainType' , 'RestingECG', 'ExerciseAngina', 'ST_Slope'] , axis = 'columns')"
   ]
  },
  {
   "cell_type": "code",
   "execution_count": 36,
   "id": "642bcfb1",
   "metadata": {},
   "outputs": [
    {
     "data": {
      "text/html": [
       "<div>\n",
       "<style scoped>\n",
       "    .dataframe tbody tr th:only-of-type {\n",
       "        vertical-align: middle;\n",
       "    }\n",
       "\n",
       "    .dataframe tbody tr th {\n",
       "        vertical-align: top;\n",
       "    }\n",
       "\n",
       "    .dataframe thead th {\n",
       "        text-align: right;\n",
       "    }\n",
       "</style>\n",
       "<table border=\"1\" class=\"dataframe\">\n",
       "  <thead>\n",
       "    <tr style=\"text-align: right;\">\n",
       "      <th></th>\n",
       "      <th>Age</th>\n",
       "      <th>RestingBP</th>\n",
       "      <th>Cholesterol</th>\n",
       "      <th>FastingBS</th>\n",
       "      <th>MaxHR</th>\n",
       "      <th>Oldpeak</th>\n",
       "      <th>HeartDisease</th>\n",
       "      <th>Label Sex</th>\n",
       "      <th>Label ChestPainType</th>\n",
       "      <th>Label RestingECG</th>\n",
       "      <th>Label ExerciseAngina</th>\n",
       "      <th>Label ST_Slope</th>\n",
       "    </tr>\n",
       "  </thead>\n",
       "  <tbody>\n",
       "    <tr>\n",
       "      <th>587</th>\n",
       "      <td>37</td>\n",
       "      <td>118</td>\n",
       "      <td>240</td>\n",
       "      <td>0</td>\n",
       "      <td>165</td>\n",
       "      <td>1.0</td>\n",
       "      <td>0</td>\n",
       "      <td>1</td>\n",
       "      <td>2</td>\n",
       "      <td>0</td>\n",
       "      <td>0</td>\n",
       "      <td>1</td>\n",
       "    </tr>\n",
       "    <tr>\n",
       "      <th>489</th>\n",
       "      <td>54</td>\n",
       "      <td>136</td>\n",
       "      <td>220</td>\n",
       "      <td>0</td>\n",
       "      <td>140</td>\n",
       "      <td>3.0</td>\n",
       "      <td>1</td>\n",
       "      <td>1</td>\n",
       "      <td>0</td>\n",
       "      <td>1</td>\n",
       "      <td>1</td>\n",
       "      <td>1</td>\n",
       "    </tr>\n",
       "    <tr>\n",
       "      <th>486</th>\n",
       "      <td>55</td>\n",
       "      <td>110</td>\n",
       "      <td>214</td>\n",
       "      <td>1</td>\n",
       "      <td>180</td>\n",
       "      <td>0.4</td>\n",
       "      <td>0</td>\n",
       "      <td>1</td>\n",
       "      <td>1</td>\n",
       "      <td>2</td>\n",
       "      <td>0</td>\n",
       "      <td>2</td>\n",
       "    </tr>\n",
       "    <tr>\n",
       "      <th>274</th>\n",
       "      <td>45</td>\n",
       "      <td>180</td>\n",
       "      <td>295</td>\n",
       "      <td>0</td>\n",
       "      <td>180</td>\n",
       "      <td>0.0</td>\n",
       "      <td>0</td>\n",
       "      <td>0</td>\n",
       "      <td>1</td>\n",
       "      <td>1</td>\n",
       "      <td>0</td>\n",
       "      <td>2</td>\n",
       "    </tr>\n",
       "    <tr>\n",
       "      <th>482</th>\n",
       "      <td>67</td>\n",
       "      <td>142</td>\n",
       "      <td>270</td>\n",
       "      <td>1</td>\n",
       "      <td>125</td>\n",
       "      <td>2.5</td>\n",
       "      <td>1</td>\n",
       "      <td>1</td>\n",
       "      <td>3</td>\n",
       "      <td>1</td>\n",
       "      <td>0</td>\n",
       "      <td>2</td>\n",
       "    </tr>\n",
       "    <tr>\n",
       "      <th>201</th>\n",
       "      <td>46</td>\n",
       "      <td>120</td>\n",
       "      <td>230</td>\n",
       "      <td>0</td>\n",
       "      <td>150</td>\n",
       "      <td>0.0</td>\n",
       "      <td>0</td>\n",
       "      <td>1</td>\n",
       "      <td>2</td>\n",
       "      <td>1</td>\n",
       "      <td>0</td>\n",
       "      <td>2</td>\n",
       "    </tr>\n",
       "    <tr>\n",
       "      <th>127</th>\n",
       "      <td>48</td>\n",
       "      <td>108</td>\n",
       "      <td>163</td>\n",
       "      <td>0</td>\n",
       "      <td>175</td>\n",
       "      <td>2.0</td>\n",
       "      <td>0</td>\n",
       "      <td>0</td>\n",
       "      <td>0</td>\n",
       "      <td>1</td>\n",
       "      <td>0</td>\n",
       "      <td>2</td>\n",
       "    </tr>\n",
       "    <tr>\n",
       "      <th>370</th>\n",
       "      <td>60</td>\n",
       "      <td>135</td>\n",
       "      <td>0</td>\n",
       "      <td>0</td>\n",
       "      <td>63</td>\n",
       "      <td>0.5</td>\n",
       "      <td>1</td>\n",
       "      <td>1</td>\n",
       "      <td>0</td>\n",
       "      <td>1</td>\n",
       "      <td>1</td>\n",
       "      <td>2</td>\n",
       "    </tr>\n",
       "    <tr>\n",
       "      <th>248</th>\n",
       "      <td>45</td>\n",
       "      <td>130</td>\n",
       "      <td>219</td>\n",
       "      <td>0</td>\n",
       "      <td>130</td>\n",
       "      <td>1.0</td>\n",
       "      <td>1</td>\n",
       "      <td>1</td>\n",
       "      <td>0</td>\n",
       "      <td>2</td>\n",
       "      <td>1</td>\n",
       "      <td>1</td>\n",
       "    </tr>\n",
       "    <tr>\n",
       "      <th>530</th>\n",
       "      <td>50</td>\n",
       "      <td>133</td>\n",
       "      <td>218</td>\n",
       "      <td>0</td>\n",
       "      <td>128</td>\n",
       "      <td>1.1</td>\n",
       "      <td>1</td>\n",
       "      <td>1</td>\n",
       "      <td>0</td>\n",
       "      <td>1</td>\n",
       "      <td>1</td>\n",
       "      <td>1</td>\n",
       "    </tr>\n",
       "  </tbody>\n",
       "</table>\n",
       "</div>"
      ],
      "text/plain": [
       "     Age  RestingBP  Cholesterol  FastingBS  MaxHR  Oldpeak  HeartDisease  \\\n",
       "587   37        118          240          0    165      1.0             0   \n",
       "489   54        136          220          0    140      3.0             1   \n",
       "486   55        110          214          1    180      0.4             0   \n",
       "274   45        180          295          0    180      0.0             0   \n",
       "482   67        142          270          1    125      2.5             1   \n",
       "201   46        120          230          0    150      0.0             0   \n",
       "127   48        108          163          0    175      2.0             0   \n",
       "370   60        135            0          0     63      0.5             1   \n",
       "248   45        130          219          0    130      1.0             1   \n",
       "530   50        133          218          0    128      1.1             1   \n",
       "\n",
       "     Label Sex  Label ChestPainType  Label RestingECG  Label ExerciseAngina  \\\n",
       "587          1                    2                 0                     0   \n",
       "489          1                    0                 1                     1   \n",
       "486          1                    1                 2                     0   \n",
       "274          0                    1                 1                     0   \n",
       "482          1                    3                 1                     0   \n",
       "201          1                    2                 1                     0   \n",
       "127          0                    0                 1                     0   \n",
       "370          1                    0                 1                     1   \n",
       "248          1                    0                 2                     1   \n",
       "530          1                    0                 1                     1   \n",
       "\n",
       "     Label ST_Slope  \n",
       "587               1  \n",
       "489               1  \n",
       "486               2  \n",
       "274               2  \n",
       "482               2  \n",
       "201               2  \n",
       "127               2  \n",
       "370               2  \n",
       "248               1  \n",
       "530               1  "
      ]
     },
     "execution_count": 36,
     "metadata": {},
     "output_type": "execute_result"
    }
   ],
   "source": [
    "new_dataset.sample(10)"
   ]
  },
  {
   "cell_type": "code",
   "execution_count": 37,
   "id": "6dda828e",
   "metadata": {},
   "outputs": [],
   "source": [
    "end_column = new_dataset.pop('HeartDisease')  # remov HD beasuse it's a target value"
   ]
  },
  {
   "cell_type": "code",
   "execution_count": 38,
   "id": "d4a69a3e",
   "metadata": {},
   "outputs": [
    {
     "data": {
      "text/plain": [
       "0      0\n",
       "1      1\n",
       "2      0\n",
       "3      1\n",
       "4      0\n",
       "      ..\n",
       "913    1\n",
       "914    1\n",
       "915    1\n",
       "916    1\n",
       "917    0\n",
       "Name: HeartDisease, Length: 918, dtype: int64"
      ]
     },
     "execution_count": 38,
     "metadata": {},
     "output_type": "execute_result"
    }
   ],
   "source": [
    "end_column"
   ]
  },
  {
   "cell_type": "code",
   "execution_count": 39,
   "id": "3a0049bd",
   "metadata": {},
   "outputs": [],
   "source": [
    "new_dataset.insert(8, 'HeartDisease', end_column)"
   ]
  },
  {
   "cell_type": "code",
   "execution_count": 40,
   "id": "e74dd7a0",
   "metadata": {},
   "outputs": [
    {
     "data": {
      "text/html": [
       "<div>\n",
       "<style scoped>\n",
       "    .dataframe tbody tr th:only-of-type {\n",
       "        vertical-align: middle;\n",
       "    }\n",
       "\n",
       "    .dataframe tbody tr th {\n",
       "        vertical-align: top;\n",
       "    }\n",
       "\n",
       "    .dataframe thead th {\n",
       "        text-align: right;\n",
       "    }\n",
       "</style>\n",
       "<table border=\"1\" class=\"dataframe\">\n",
       "  <thead>\n",
       "    <tr style=\"text-align: right;\">\n",
       "      <th></th>\n",
       "      <th>Age</th>\n",
       "      <th>RestingBP</th>\n",
       "      <th>Cholesterol</th>\n",
       "      <th>FastingBS</th>\n",
       "      <th>MaxHR</th>\n",
       "      <th>Oldpeak</th>\n",
       "      <th>Label Sex</th>\n",
       "      <th>Label ChestPainType</th>\n",
       "      <th>HeartDisease</th>\n",
       "      <th>Label RestingECG</th>\n",
       "      <th>Label ExerciseAngina</th>\n",
       "      <th>Label ST_Slope</th>\n",
       "    </tr>\n",
       "  </thead>\n",
       "  <tbody>\n",
       "    <tr>\n",
       "      <th>250</th>\n",
       "      <td>44</td>\n",
       "      <td>135</td>\n",
       "      <td>491</td>\n",
       "      <td>0</td>\n",
       "      <td>135</td>\n",
       "      <td>0.0</td>\n",
       "      <td>1</td>\n",
       "      <td>0</td>\n",
       "      <td>1</td>\n",
       "      <td>1</td>\n",
       "      <td>0</td>\n",
       "      <td>1</td>\n",
       "    </tr>\n",
       "    <tr>\n",
       "      <th>911</th>\n",
       "      <td>59</td>\n",
       "      <td>164</td>\n",
       "      <td>176</td>\n",
       "      <td>1</td>\n",
       "      <td>90</td>\n",
       "      <td>1.0</td>\n",
       "      <td>1</td>\n",
       "      <td>0</td>\n",
       "      <td>1</td>\n",
       "      <td>0</td>\n",
       "      <td>0</td>\n",
       "      <td>1</td>\n",
       "    </tr>\n",
       "    <tr>\n",
       "      <th>803</th>\n",
       "      <td>62</td>\n",
       "      <td>140</td>\n",
       "      <td>394</td>\n",
       "      <td>0</td>\n",
       "      <td>157</td>\n",
       "      <td>1.2</td>\n",
       "      <td>0</td>\n",
       "      <td>0</td>\n",
       "      <td>0</td>\n",
       "      <td>0</td>\n",
       "      <td>0</td>\n",
       "      <td>1</td>\n",
       "    </tr>\n",
       "    <tr>\n",
       "      <th>154</th>\n",
       "      <td>41</td>\n",
       "      <td>120</td>\n",
       "      <td>291</td>\n",
       "      <td>0</td>\n",
       "      <td>160</td>\n",
       "      <td>0.0</td>\n",
       "      <td>1</td>\n",
       "      <td>1</td>\n",
       "      <td>0</td>\n",
       "      <td>2</td>\n",
       "      <td>0</td>\n",
       "      <td>2</td>\n",
       "    </tr>\n",
       "    <tr>\n",
       "      <th>471</th>\n",
       "      <td>68</td>\n",
       "      <td>138</td>\n",
       "      <td>0</td>\n",
       "      <td>0</td>\n",
       "      <td>130</td>\n",
       "      <td>3.0</td>\n",
       "      <td>1</td>\n",
       "      <td>0</td>\n",
       "      <td>1</td>\n",
       "      <td>1</td>\n",
       "      <td>1</td>\n",
       "      <td>1</td>\n",
       "    </tr>\n",
       "    <tr>\n",
       "      <th>589</th>\n",
       "      <td>74</td>\n",
       "      <td>140</td>\n",
       "      <td>237</td>\n",
       "      <td>1</td>\n",
       "      <td>94</td>\n",
       "      <td>0.0</td>\n",
       "      <td>1</td>\n",
       "      <td>2</td>\n",
       "      <td>1</td>\n",
       "      <td>1</td>\n",
       "      <td>0</td>\n",
       "      <td>1</td>\n",
       "    </tr>\n",
       "    <tr>\n",
       "      <th>549</th>\n",
       "      <td>68</td>\n",
       "      <td>139</td>\n",
       "      <td>181</td>\n",
       "      <td>1</td>\n",
       "      <td>135</td>\n",
       "      <td>0.2</td>\n",
       "      <td>1</td>\n",
       "      <td>3</td>\n",
       "      <td>0</td>\n",
       "      <td>2</td>\n",
       "      <td>0</td>\n",
       "      <td>2</td>\n",
       "    </tr>\n",
       "    <tr>\n",
       "      <th>12</th>\n",
       "      <td>39</td>\n",
       "      <td>120</td>\n",
       "      <td>204</td>\n",
       "      <td>0</td>\n",
       "      <td>145</td>\n",
       "      <td>0.0</td>\n",
       "      <td>1</td>\n",
       "      <td>1</td>\n",
       "      <td>0</td>\n",
       "      <td>1</td>\n",
       "      <td>0</td>\n",
       "      <td>2</td>\n",
       "    </tr>\n",
       "    <tr>\n",
       "      <th>397</th>\n",
       "      <td>58</td>\n",
       "      <td>170</td>\n",
       "      <td>0</td>\n",
       "      <td>1</td>\n",
       "      <td>105</td>\n",
       "      <td>0.0</td>\n",
       "      <td>1</td>\n",
       "      <td>0</td>\n",
       "      <td>1</td>\n",
       "      <td>2</td>\n",
       "      <td>1</td>\n",
       "      <td>1</td>\n",
       "    </tr>\n",
       "    <tr>\n",
       "      <th>633</th>\n",
       "      <td>64</td>\n",
       "      <td>110</td>\n",
       "      <td>211</td>\n",
       "      <td>0</td>\n",
       "      <td>144</td>\n",
       "      <td>1.8</td>\n",
       "      <td>1</td>\n",
       "      <td>3</td>\n",
       "      <td>0</td>\n",
       "      <td>0</td>\n",
       "      <td>1</td>\n",
       "      <td>1</td>\n",
       "    </tr>\n",
       "  </tbody>\n",
       "</table>\n",
       "</div>"
      ],
      "text/plain": [
       "     Age  RestingBP  Cholesterol  FastingBS  MaxHR  Oldpeak  Label Sex  \\\n",
       "250   44        135          491          0    135      0.0          1   \n",
       "911   59        164          176          1     90      1.0          1   \n",
       "803   62        140          394          0    157      1.2          0   \n",
       "154   41        120          291          0    160      0.0          1   \n",
       "471   68        138            0          0    130      3.0          1   \n",
       "589   74        140          237          1     94      0.0          1   \n",
       "549   68        139          181          1    135      0.2          1   \n",
       "12    39        120          204          0    145      0.0          1   \n",
       "397   58        170            0          1    105      0.0          1   \n",
       "633   64        110          211          0    144      1.8          1   \n",
       "\n",
       "     Label ChestPainType  HeartDisease  Label RestingECG  \\\n",
       "250                    0             1                 1   \n",
       "911                    0             1                 0   \n",
       "803                    0             0                 0   \n",
       "154                    1             0                 2   \n",
       "471                    0             1                 1   \n",
       "589                    2             1                 1   \n",
       "549                    3             0                 2   \n",
       "12                     1             0                 1   \n",
       "397                    0             1                 2   \n",
       "633                    3             0                 0   \n",
       "\n",
       "     Label ExerciseAngina  Label ST_Slope  \n",
       "250                     0               1  \n",
       "911                     0               1  \n",
       "803                     0               1  \n",
       "154                     0               2  \n",
       "471                     1               1  \n",
       "589                     0               1  \n",
       "549                     0               2  \n",
       "12                      0               2  \n",
       "397                     1               1  \n",
       "633                     1               1  "
      ]
     },
     "execution_count": 40,
     "metadata": {},
     "output_type": "execute_result"
    }
   ],
   "source": [
    "new_dataset.sample(10)"
   ]
  },
  {
   "cell_type": "code",
   "execution_count": 41,
   "id": "214a329d",
   "metadata": {},
   "outputs": [
    {
     "data": {
      "text/plain": [
       "(918, 12)"
      ]
     },
     "execution_count": 41,
     "metadata": {},
     "output_type": "execute_result"
    }
   ],
   "source": [
    "new_dataset.shape"
   ]
  },
  {
   "cell_type": "markdown",
   "id": "2a5be1a3",
   "metadata": {},
   "source": [
    "Showing graphical forms of our dataset"
   ]
  },
  {
   "cell_type": "code",
   "execution_count": 42,
   "id": "881b9474",
   "metadata": {},
   "outputs": [
    {
     "data": {
      "text/plain": [
       "<AxesSubplot:xlabel='HeartDisease', ylabel='count'>"
      ]
     },
     "execution_count": 42,
     "metadata": {},
     "output_type": "execute_result"
    },
    {
     "data": {
      "image/png": "[encoded data removed]",
      "text/plain": [
       "<Figure size 432x288 with 1 Axes>"
      ]
     },
     "metadata": {
      "needs_background": "light"
     },
     "output_type": "display_data"
    }
   ],
   "source": [
    "sns.countplot(x='HeartDisease', data=new_dataset)"
   ]
  },
  {
   "cell_type": "code",
   "execution_count": 43,
   "id": "8fe10c0a",
   "metadata": {},
   "outputs": [
    {
     "data": {
      "text/plain": [
       "<AxesSubplot:xlabel='HeartDisease', ylabel='count'>"
      ]
     },
     "execution_count": 43,
     "metadata": {},
     "output_type": "execute_result"
    },
    {
     "data": {
      "image/png": "[encoded data removed]",
      "text/plain": [
       "<Figure size 432x288 with 1 Axes>"
      ]
     },
     "metadata": {
      "needs_background": "light"
     },
     "output_type": "display_data"
    }
   ],
   "source": [
    "sns.countplot(x='HeartDisease', hue='Label Sex', data=new_dataset) "
   ]
  },
  {
   "cell_type": "code",
   "execution_count": 44,
   "id": "4cbaf150",
   "metadata": {},
   "outputs": [
    {
     "data": {
      "text/plain": [
       "<AxesSubplot:xlabel='HeartDisease', ylabel='count'>"
      ]
     },
     "execution_count": 44,
     "metadata": {},
     "output_type": "execute_result"
    },
    {
     "data": {
      "image/png": "[encoded data removed]",
      "text/plain": [
       "<Figure size 432x288 with 1 Axes>"
      ]
     },
     "metadata": {
      "needs_background": "light"
     },
     "output_type": "display_data"
    }
   ],
   "source": [
    "sns.countplot(x='HeartDisease', hue='Label ChestPainType', data=new_dataset)"
   ]
  },
  {
   "cell_type": "code",
   "execution_count": 45,
   "id": "f6c1e1fd",
   "metadata": {},
   "outputs": [
    {
     "data": {
      "text/plain": [
       "<AxesSubplot:xlabel='HeartDisease', ylabel='count'>"
      ]
     },
     "execution_count": 45,
     "metadata": {},
     "output_type": "execute_result"
    },
    {
     "data": {
      "image/png": "[encoded data removed]",
      "text/plain": [
       "<Figure size 432x288 with 1 Axes>"
      ]
     },
     "metadata": {
      "needs_background": "light"
     },
     "output_type": "display_data"
    }
   ],
   "source": [
    "sns.countplot(x='HeartDisease', hue='Label RestingECG', data=new_dataset)"
   ]
  },
  {
   "cell_type": "code",
   "execution_count": 46,
   "id": "e3be0f86",
   "metadata": {},
   "outputs": [
    {
     "data": {
      "text/plain": [
       "<AxesSubplot:xlabel='HeartDisease', ylabel='count'>"
      ]
     },
     "execution_count": 46,
     "metadata": {},
     "output_type": "execute_result"
    },
    {
     "data": {
      "image/png": "[encoded data removed]",
      "text/plain": [
       "<Figure size 432x288 with 1 Axes>"
      ]
     },
     "metadata": {
      "needs_background": "light"
     },
     "output_type": "display_data"
    }
   ],
   "source": [
    "sns.countplot(x='HeartDisease', hue='Label ExerciseAngina', data=new_dataset)"
   ]
  },
  {
   "cell_type": "code",
   "execution_count": 47,
   "id": "b91e5497",
   "metadata": {},
   "outputs": [
    {
     "data": {
      "text/plain": [
       "<AxesSubplot:xlabel='HeartDisease', ylabel='count'>"
      ]
     },
     "execution_count": 47,
     "metadata": {},
     "output_type": "execute_result"
    },
    {
     "data": {
      "image/png": "[encoded data removed]",
      "text/plain": [
       "<Figure size 432x288 with 1 Axes>"
      ]
     },
     "metadata": {
      "needs_background": "light"
     },
     "output_type": "display_data"
    }
   ],
   "source": [
    "sns.countplot(x='HeartDisease', hue='Label ST_Slope', data=new_dataset)"
   ]
  },
  {
   "cell_type": "code",
   "execution_count": 48,
   "id": "ff0da498",
   "metadata": {},
   "outputs": [],
   "source": [
    "x_data = new_dataset.drop('HeartDisease', axis = 'columns')"
   ]
  },
  {
   "cell_type": "code",
   "execution_count": 49,
   "id": "4691ac20",
   "metadata": {},
   "outputs": [
    {
     "data": {
      "text/html": [
       "<div>\n",
       "<style scoped>\n",
       "    .dataframe tbody tr th:only-of-type {\n",
       "        vertical-align: middle;\n",
       "    }\n",
       "\n",
       "    .dataframe tbody tr th {\n",
       "        vertical-align: top;\n",
       "    }\n",
       "\n",
       "    .dataframe thead th {\n",
       "        text-align: right;\n",
       "    }\n",
       "</style>\n",
       "<table border=\"1\" class=\"dataframe\">\n",
       "  <thead>\n",
       "    <tr style=\"text-align: right;\">\n",
       "      <th></th>\n",
       "      <th>Age</th>\n",
       "      <th>RestingBP</th>\n",
       "      <th>Cholesterol</th>\n",
       "      <th>FastingBS</th>\n",
       "      <th>MaxHR</th>\n",
       "      <th>Oldpeak</th>\n",
       "      <th>Label Sex</th>\n",
       "      <th>Label ChestPainType</th>\n",
       "      <th>Label RestingECG</th>\n",
       "      <th>Label ExerciseAngina</th>\n",
       "      <th>Label ST_Slope</th>\n",
       "    </tr>\n",
       "  </thead>\n",
       "  <tbody>\n",
       "    <tr>\n",
       "      <th>685</th>\n",
       "      <td>61</td>\n",
       "      <td>120</td>\n",
       "      <td>260</td>\n",
       "      <td>0</td>\n",
       "      <td>140</td>\n",
       "      <td>3.6</td>\n",
       "      <td>1</td>\n",
       "      <td>0</td>\n",
       "      <td>1</td>\n",
       "      <td>1</td>\n",
       "      <td>1</td>\n",
       "    </tr>\n",
       "    <tr>\n",
       "      <th>120</th>\n",
       "      <td>47</td>\n",
       "      <td>135</td>\n",
       "      <td>248</td>\n",
       "      <td>1</td>\n",
       "      <td>170</td>\n",
       "      <td>0.0</td>\n",
       "      <td>0</td>\n",
       "      <td>2</td>\n",
       "      <td>1</td>\n",
       "      <td>0</td>\n",
       "      <td>1</td>\n",
       "    </tr>\n",
       "    <tr>\n",
       "      <th>793</th>\n",
       "      <td>67</td>\n",
       "      <td>125</td>\n",
       "      <td>254</td>\n",
       "      <td>1</td>\n",
       "      <td>163</td>\n",
       "      <td>0.2</td>\n",
       "      <td>1</td>\n",
       "      <td>0</td>\n",
       "      <td>1</td>\n",
       "      <td>0</td>\n",
       "      <td>1</td>\n",
       "    </tr>\n",
       "    <tr>\n",
       "      <th>33</th>\n",
       "      <td>41</td>\n",
       "      <td>130</td>\n",
       "      <td>172</td>\n",
       "      <td>0</td>\n",
       "      <td>130</td>\n",
       "      <td>2.0</td>\n",
       "      <td>1</td>\n",
       "      <td>0</td>\n",
       "      <td>2</td>\n",
       "      <td>0</td>\n",
       "      <td>1</td>\n",
       "    </tr>\n",
       "    <tr>\n",
       "      <th>171</th>\n",
       "      <td>40</td>\n",
       "      <td>140</td>\n",
       "      <td>235</td>\n",
       "      <td>0</td>\n",
       "      <td>188</td>\n",
       "      <td>0.0</td>\n",
       "      <td>1</td>\n",
       "      <td>2</td>\n",
       "      <td>1</td>\n",
       "      <td>0</td>\n",
       "      <td>2</td>\n",
       "    </tr>\n",
       "    <tr>\n",
       "      <th>53</th>\n",
       "      <td>41</td>\n",
       "      <td>130</td>\n",
       "      <td>245</td>\n",
       "      <td>0</td>\n",
       "      <td>150</td>\n",
       "      <td>0.0</td>\n",
       "      <td>0</td>\n",
       "      <td>1</td>\n",
       "      <td>1</td>\n",
       "      <td>0</td>\n",
       "      <td>2</td>\n",
       "    </tr>\n",
       "    <tr>\n",
       "      <th>359</th>\n",
       "      <td>53</td>\n",
       "      <td>105</td>\n",
       "      <td>0</td>\n",
       "      <td>0</td>\n",
       "      <td>115</td>\n",
       "      <td>0.0</td>\n",
       "      <td>1</td>\n",
       "      <td>2</td>\n",
       "      <td>1</td>\n",
       "      <td>0</td>\n",
       "      <td>1</td>\n",
       "    </tr>\n",
       "    <tr>\n",
       "      <th>57</th>\n",
       "      <td>58</td>\n",
       "      <td>130</td>\n",
       "      <td>213</td>\n",
       "      <td>0</td>\n",
       "      <td>140</td>\n",
       "      <td>0.0</td>\n",
       "      <td>1</td>\n",
       "      <td>2</td>\n",
       "      <td>2</td>\n",
       "      <td>0</td>\n",
       "      <td>1</td>\n",
       "    </tr>\n",
       "    <tr>\n",
       "      <th>869</th>\n",
       "      <td>59</td>\n",
       "      <td>150</td>\n",
       "      <td>212</td>\n",
       "      <td>1</td>\n",
       "      <td>157</td>\n",
       "      <td>1.6</td>\n",
       "      <td>1</td>\n",
       "      <td>2</td>\n",
       "      <td>1</td>\n",
       "      <td>0</td>\n",
       "      <td>2</td>\n",
       "    </tr>\n",
       "    <tr>\n",
       "      <th>598</th>\n",
       "      <td>55</td>\n",
       "      <td>120</td>\n",
       "      <td>226</td>\n",
       "      <td>0</td>\n",
       "      <td>127</td>\n",
       "      <td>1.7</td>\n",
       "      <td>1</td>\n",
       "      <td>0</td>\n",
       "      <td>0</td>\n",
       "      <td>1</td>\n",
       "      <td>0</td>\n",
       "    </tr>\n",
       "  </tbody>\n",
       "</table>\n",
       "</div>"
      ],
      "text/plain": [
       "     Age  RestingBP  Cholesterol  FastingBS  MaxHR  Oldpeak  Label Sex  \\\n",
       "685   61        120          260          0    140      3.6          1   \n",
       "120   47        135          248          1    170      0.0          0   \n",
       "793   67        125          254          1    163      0.2          1   \n",
       "33    41        130          172          0    130      2.0          1   \n",
       "171   40        140          235          0    188      0.0          1   \n",
       "53    41        130          245          0    150      0.0          0   \n",
       "359   53        105            0          0    115      0.0          1   \n",
       "57    58        130          213          0    140      0.0          1   \n",
       "869   59        150          212          1    157      1.6          1   \n",
       "598   55        120          226          0    127      1.7          1   \n",
       "\n",
       "     Label ChestPainType  Label RestingECG  Label ExerciseAngina  \\\n",
       "685                    0                 1                     1   \n",
       "120                    2                 1                     0   \n",
       "793                    0                 1                     0   \n",
       "33                     0                 2                     0   \n",
       "171                    2                 1                     0   \n",
       "53                     1                 1                     0   \n",
       "359                    2                 1                     0   \n",
       "57                     2                 2                     0   \n",
       "869                    2                 1                     0   \n",
       "598                    0                 0                     1   \n",
       "\n",
       "     Label ST_Slope  \n",
       "685               1  \n",
       "120               1  \n",
       "793               1  \n",
       "33                1  \n",
       "171               2  \n",
       "53                2  \n",
       "359               1  \n",
       "57                1  \n",
       "869               2  \n",
       "598               0  "
      ]
     },
     "execution_count": 49,
     "metadata": {},
     "output_type": "execute_result"
    }
   ],
   "source": [
    "x_data.sample(10)"
   ]
  },
  {
   "cell_type": "code",
   "execution_count": 50,
   "id": "7ddfc467",
   "metadata": {},
   "outputs": [
    {
     "data": {
      "text/plain": [
       "(918, 11)"
      ]
     },
     "execution_count": 50,
     "metadata": {},
     "output_type": "execute_result"
    }
   ],
   "source": [
    "x_data.shape"
   ]
  },
  {
   "cell_type": "code",
   "execution_count": 51,
   "id": "5a306d2c",
   "metadata": {},
   "outputs": [],
   "source": [
    "y_data = target"
   ]
  },
  {
   "cell_type": "code",
   "execution_count": 52,
   "id": "191c4800",
   "metadata": {},
   "outputs": [
    {
     "data": {
      "text/plain": [
       "745    1\n",
       "806    1\n",
       "647    0\n",
       "331    1\n",
       "237    1\n",
       "271    0\n",
       "614    1\n",
       "427    1\n",
       "524    0\n",
       "130    0\n",
       "Name: HeartDisease, dtype: int64"
      ]
     },
     "execution_count": 52,
     "metadata": {},
     "output_type": "execute_result"
    }
   ],
   "source": [
    "y_data.sample(10)"
   ]
  },
  {
   "cell_type": "code",
   "execution_count": 53,
   "id": "87ac144c",
   "metadata": {},
   "outputs": [
    {
     "data": {
      "text/plain": [
       "(918,)"
      ]
     },
     "execution_count": 53,
     "metadata": {},
     "output_type": "execute_result"
    }
   ],
   "source": [
    "y_data.shape"
   ]
  },
  {
   "cell_type": "markdown",
   "id": "787b69a5",
   "metadata": {},
   "source": [
    "Now importing train_test_split from sklearn.model_selection which will help us to split are data in two parts"
   ]
  },
  {
   "cell_type": "code",
   "execution_count": 54,
   "id": "95a7173e",
   "metadata": {},
   "outputs": [],
   "source": [
    "from sklearn.model_selection import train_test_split  # split train or test"
   ]
  },
  {
   "cell_type": "code",
   "execution_count": 55,
   "id": "f02aef80",
   "metadata": {},
   "outputs": [],
   "source": [
    "x_train_data, x_test_data, y_train_data, y_test_data = train_test_split(x_data, y_data, train_size=0.8, random_state=42)"
   ]
  },
  {
   "cell_type": "code",
   "execution_count": 56,
   "id": "b310021d",
   "metadata": {},
   "outputs": [
    {
     "data": {
      "text/html": [
       "<div>\n",
       "<style scoped>\n",
       "    .dataframe tbody tr th:only-of-type {\n",
       "        vertical-align: middle;\n",
       "    }\n",
       "\n",
       "    .dataframe tbody tr th {\n",
       "        vertical-align: top;\n",
       "    }\n",
       "\n",
       "    .dataframe thead th {\n",
       "        text-align: right;\n",
       "    }\n",
       "</style>\n",
       "<table border=\"1\" class=\"dataframe\">\n",
       "  <thead>\n",
       "    <tr style=\"text-align: right;\">\n",
       "      <th></th>\n",
       "      <th>Age</th>\n",
       "      <th>RestingBP</th>\n",
       "      <th>Cholesterol</th>\n",
       "      <th>FastingBS</th>\n",
       "      <th>MaxHR</th>\n",
       "      <th>Oldpeak</th>\n",
       "      <th>Label Sex</th>\n",
       "      <th>Label ChestPainType</th>\n",
       "      <th>Label RestingECG</th>\n",
       "      <th>Label ExerciseAngina</th>\n",
       "      <th>Label ST_Slope</th>\n",
       "    </tr>\n",
       "  </thead>\n",
       "  <tbody>\n",
       "    <tr>\n",
       "      <th>105</th>\n",
       "      <td>57</td>\n",
       "      <td>140</td>\n",
       "      <td>260</td>\n",
       "      <td>1</td>\n",
       "      <td>140</td>\n",
       "      <td>0.0</td>\n",
       "      <td>1</td>\n",
       "      <td>1</td>\n",
       "      <td>1</td>\n",
       "      <td>0</td>\n",
       "      <td>2</td>\n",
       "    </tr>\n",
       "    <tr>\n",
       "      <th>707</th>\n",
       "      <td>54</td>\n",
       "      <td>124</td>\n",
       "      <td>266</td>\n",
       "      <td>0</td>\n",
       "      <td>109</td>\n",
       "      <td>2.2</td>\n",
       "      <td>1</td>\n",
       "      <td>0</td>\n",
       "      <td>0</td>\n",
       "      <td>1</td>\n",
       "      <td>1</td>\n",
       "    </tr>\n",
       "    <tr>\n",
       "      <th>474</th>\n",
       "      <td>62</td>\n",
       "      <td>131</td>\n",
       "      <td>0</td>\n",
       "      <td>0</td>\n",
       "      <td>130</td>\n",
       "      <td>0.1</td>\n",
       "      <td>1</td>\n",
       "      <td>1</td>\n",
       "      <td>1</td>\n",
       "      <td>0</td>\n",
       "      <td>2</td>\n",
       "    </tr>\n",
       "    <tr>\n",
       "      <th>104</th>\n",
       "      <td>46</td>\n",
       "      <td>118</td>\n",
       "      <td>186</td>\n",
       "      <td>0</td>\n",
       "      <td>124</td>\n",
       "      <td>0.0</td>\n",
       "      <td>1</td>\n",
       "      <td>0</td>\n",
       "      <td>1</td>\n",
       "      <td>0</td>\n",
       "      <td>1</td>\n",
       "    </tr>\n",
       "    <tr>\n",
       "      <th>418</th>\n",
       "      <td>60</td>\n",
       "      <td>132</td>\n",
       "      <td>218</td>\n",
       "      <td>0</td>\n",
       "      <td>140</td>\n",
       "      <td>1.5</td>\n",
       "      <td>1</td>\n",
       "      <td>0</td>\n",
       "      <td>2</td>\n",
       "      <td>1</td>\n",
       "      <td>0</td>\n",
       "    </tr>\n",
       "    <tr>\n",
       "      <th>153</th>\n",
       "      <td>55</td>\n",
       "      <td>120</td>\n",
       "      <td>270</td>\n",
       "      <td>0</td>\n",
       "      <td>140</td>\n",
       "      <td>0.0</td>\n",
       "      <td>1</td>\n",
       "      <td>0</td>\n",
       "      <td>1</td>\n",
       "      <td>0</td>\n",
       "      <td>2</td>\n",
       "    </tr>\n",
       "    <tr>\n",
       "      <th>575</th>\n",
       "      <td>56</td>\n",
       "      <td>137</td>\n",
       "      <td>282</td>\n",
       "      <td>1</td>\n",
       "      <td>126</td>\n",
       "      <td>1.2</td>\n",
       "      <td>1</td>\n",
       "      <td>0</td>\n",
       "      <td>1</td>\n",
       "      <td>1</td>\n",
       "      <td>1</td>\n",
       "    </tr>\n",
       "    <tr>\n",
       "      <th>354</th>\n",
       "      <td>55</td>\n",
       "      <td>120</td>\n",
       "      <td>0</td>\n",
       "      <td>0</td>\n",
       "      <td>92</td>\n",
       "      <td>0.3</td>\n",
       "      <td>1</td>\n",
       "      <td>0</td>\n",
       "      <td>2</td>\n",
       "      <td>0</td>\n",
       "      <td>2</td>\n",
       "    </tr>\n",
       "    <tr>\n",
       "      <th>405</th>\n",
       "      <td>35</td>\n",
       "      <td>120</td>\n",
       "      <td>0</td>\n",
       "      <td>1</td>\n",
       "      <td>130</td>\n",
       "      <td>1.2</td>\n",
       "      <td>1</td>\n",
       "      <td>0</td>\n",
       "      <td>1</td>\n",
       "      <td>1</td>\n",
       "      <td>1</td>\n",
       "    </tr>\n",
       "    <tr>\n",
       "      <th>144</th>\n",
       "      <td>56</td>\n",
       "      <td>120</td>\n",
       "      <td>279</td>\n",
       "      <td>0</td>\n",
       "      <td>150</td>\n",
       "      <td>1.0</td>\n",
       "      <td>0</td>\n",
       "      <td>1</td>\n",
       "      <td>1</td>\n",
       "      <td>0</td>\n",
       "      <td>1</td>\n",
       "    </tr>\n",
       "  </tbody>\n",
       "</table>\n",
       "</div>"
      ],
      "text/plain": [
       "     Age  RestingBP  Cholesterol  FastingBS  MaxHR  Oldpeak  Label Sex  \\\n",
       "105   57        140          260          1    140      0.0          1   \n",
       "707   54        124          266          0    109      2.2          1   \n",
       "474   62        131            0          0    130      0.1          1   \n",
       "104   46        118          186          0    124      0.0          1   \n",
       "418   60        132          218          0    140      1.5          1   \n",
       "153   55        120          270          0    140      0.0          1   \n",
       "575   56        137          282          1    126      1.2          1   \n",
       "354   55        120            0          0     92      0.3          1   \n",
       "405   35        120            0          1    130      1.2          1   \n",
       "144   56        120          279          0    150      1.0          0   \n",
       "\n",
       "     Label ChestPainType  Label RestingECG  Label ExerciseAngina  \\\n",
       "105                    1                 1                     0   \n",
       "707                    0                 0                     1   \n",
       "474                    1                 1                     0   \n",
       "104                    0                 1                     0   \n",
       "418                    0                 2                     1   \n",
       "153                    0                 1                     0   \n",
       "575                    0                 1                     1   \n",
       "354                    0                 2                     0   \n",
       "405                    0                 1                     1   \n",
       "144                    1                 1                     0   \n",
       "\n",
       "     Label ST_Slope  \n",
       "105               2  \n",
       "707               1  \n",
       "474               2  \n",
       "104               1  \n",
       "418               0  \n",
       "153               2  \n",
       "575               1  \n",
       "354               2  \n",
       "405               1  \n",
       "144               1  "
      ]
     },
     "execution_count": 56,
     "metadata": {},
     "output_type": "execute_result"
    }
   ],
   "source": [
    "x_train_data.sample(10)"
   ]
  },
  {
   "cell_type": "code",
   "execution_count": 57,
   "id": "bbca18b9",
   "metadata": {},
   "outputs": [
    {
     "data": {
      "text/plain": [
       "(734, 11)"
      ]
     },
     "execution_count": 57,
     "metadata": {},
     "output_type": "execute_result"
    }
   ],
   "source": [
    "x_train_data.shape"
   ]
  },
  {
   "cell_type": "code",
   "execution_count": 58,
   "id": "3dc82814",
   "metadata": {},
   "outputs": [
    {
     "data": {
      "text/html": [
       "<div>\n",
       "<style scoped>\n",
       "    .dataframe tbody tr th:only-of-type {\n",
       "        vertical-align: middle;\n",
       "    }\n",
       "\n",
       "    .dataframe tbody tr th {\n",
       "        vertical-align: top;\n",
       "    }\n",
       "\n",
       "    .dataframe thead th {\n",
       "        text-align: right;\n",
       "    }\n",
       "</style>\n",
       "<table border=\"1\" class=\"dataframe\">\n",
       "  <thead>\n",
       "    <tr style=\"text-align: right;\">\n",
       "      <th></th>\n",
       "      <th>Age</th>\n",
       "      <th>RestingBP</th>\n",
       "      <th>Cholesterol</th>\n",
       "      <th>FastingBS</th>\n",
       "      <th>MaxHR</th>\n",
       "      <th>Oldpeak</th>\n",
       "      <th>Label Sex</th>\n",
       "      <th>Label ChestPainType</th>\n",
       "      <th>Label RestingECG</th>\n",
       "      <th>Label ExerciseAngina</th>\n",
       "      <th>Label ST_Slope</th>\n",
       "    </tr>\n",
       "  </thead>\n",
       "  <tbody>\n",
       "    <tr>\n",
       "      <th>331</th>\n",
       "      <td>56</td>\n",
       "      <td>115</td>\n",
       "      <td>0</td>\n",
       "      <td>1</td>\n",
       "      <td>82</td>\n",
       "      <td>-1.0</td>\n",
       "      <td>1</td>\n",
       "      <td>0</td>\n",
       "      <td>2</td>\n",
       "      <td>0</td>\n",
       "      <td>2</td>\n",
       "    </tr>\n",
       "    <tr>\n",
       "      <th>557</th>\n",
       "      <td>56</td>\n",
       "      <td>137</td>\n",
       "      <td>208</td>\n",
       "      <td>1</td>\n",
       "      <td>122</td>\n",
       "      <td>1.8</td>\n",
       "      <td>1</td>\n",
       "      <td>2</td>\n",
       "      <td>2</td>\n",
       "      <td>1</td>\n",
       "      <td>1</td>\n",
       "    </tr>\n",
       "    <tr>\n",
       "      <th>714</th>\n",
       "      <td>50</td>\n",
       "      <td>120</td>\n",
       "      <td>244</td>\n",
       "      <td>0</td>\n",
       "      <td>162</td>\n",
       "      <td>1.1</td>\n",
       "      <td>0</td>\n",
       "      <td>1</td>\n",
       "      <td>1</td>\n",
       "      <td>0</td>\n",
       "      <td>2</td>\n",
       "    </tr>\n",
       "    <tr>\n",
       "      <th>299</th>\n",
       "      <td>47</td>\n",
       "      <td>110</td>\n",
       "      <td>0</td>\n",
       "      <td>1</td>\n",
       "      <td>149</td>\n",
       "      <td>2.1</td>\n",
       "      <td>1</td>\n",
       "      <td>0</td>\n",
       "      <td>2</td>\n",
       "      <td>0</td>\n",
       "      <td>2</td>\n",
       "    </tr>\n",
       "    <tr>\n",
       "      <th>513</th>\n",
       "      <td>62</td>\n",
       "      <td>112</td>\n",
       "      <td>258</td>\n",
       "      <td>0</td>\n",
       "      <td>150</td>\n",
       "      <td>1.3</td>\n",
       "      <td>1</td>\n",
       "      <td>3</td>\n",
       "      <td>2</td>\n",
       "      <td>1</td>\n",
       "      <td>1</td>\n",
       "    </tr>\n",
       "    <tr>\n",
       "      <th>309</th>\n",
       "      <td>57</td>\n",
       "      <td>95</td>\n",
       "      <td>0</td>\n",
       "      <td>1</td>\n",
       "      <td>182</td>\n",
       "      <td>0.7</td>\n",
       "      <td>1</td>\n",
       "      <td>0</td>\n",
       "      <td>1</td>\n",
       "      <td>0</td>\n",
       "      <td>0</td>\n",
       "    </tr>\n",
       "    <tr>\n",
       "      <th>844</th>\n",
       "      <td>52</td>\n",
       "      <td>118</td>\n",
       "      <td>186</td>\n",
       "      <td>0</td>\n",
       "      <td>190</td>\n",
       "      <td>0.0</td>\n",
       "      <td>1</td>\n",
       "      <td>3</td>\n",
       "      <td>0</td>\n",
       "      <td>0</td>\n",
       "      <td>1</td>\n",
       "    </tr>\n",
       "    <tr>\n",
       "      <th>684</th>\n",
       "      <td>47</td>\n",
       "      <td>108</td>\n",
       "      <td>243</td>\n",
       "      <td>0</td>\n",
       "      <td>152</td>\n",
       "      <td>0.0</td>\n",
       "      <td>1</td>\n",
       "      <td>2</td>\n",
       "      <td>1</td>\n",
       "      <td>0</td>\n",
       "      <td>2</td>\n",
       "    </tr>\n",
       "    <tr>\n",
       "      <th>799</th>\n",
       "      <td>53</td>\n",
       "      <td>130</td>\n",
       "      <td>246</td>\n",
       "      <td>1</td>\n",
       "      <td>173</td>\n",
       "      <td>0.0</td>\n",
       "      <td>1</td>\n",
       "      <td>2</td>\n",
       "      <td>0</td>\n",
       "      <td>0</td>\n",
       "      <td>2</td>\n",
       "    </tr>\n",
       "    <tr>\n",
       "      <th>907</th>\n",
       "      <td>44</td>\n",
       "      <td>120</td>\n",
       "      <td>169</td>\n",
       "      <td>0</td>\n",
       "      <td>144</td>\n",
       "      <td>2.8</td>\n",
       "      <td>1</td>\n",
       "      <td>0</td>\n",
       "      <td>1</td>\n",
       "      <td>1</td>\n",
       "      <td>0</td>\n",
       "    </tr>\n",
       "  </tbody>\n",
       "</table>\n",
       "</div>"
      ],
      "text/plain": [
       "     Age  RestingBP  Cholesterol  FastingBS  MaxHR  Oldpeak  Label Sex  \\\n",
       "331   56        115            0          1     82     -1.0          1   \n",
       "557   56        137          208          1    122      1.8          1   \n",
       "714   50        120          244          0    162      1.1          0   \n",
       "299   47        110            0          1    149      2.1          1   \n",
       "513   62        112          258          0    150      1.3          1   \n",
       "309   57         95            0          1    182      0.7          1   \n",
       "844   52        118          186          0    190      0.0          1   \n",
       "684   47        108          243          0    152      0.0          1   \n",
       "799   53        130          246          1    173      0.0          1   \n",
       "907   44        120          169          0    144      2.8          1   \n",
       "\n",
       "     Label ChestPainType  Label RestingECG  Label ExerciseAngina  \\\n",
       "331                    0                 2                     0   \n",
       "557                    2                 2                     1   \n",
       "714                    1                 1                     0   \n",
       "299                    0                 2                     0   \n",
       "513                    3                 2                     1   \n",
       "309                    0                 1                     0   \n",
       "844                    3                 0                     0   \n",
       "684                    2                 1                     0   \n",
       "799                    2                 0                     0   \n",
       "907                    0                 1                     1   \n",
       "\n",
       "     Label ST_Slope  \n",
       "331               2  \n",
       "557               1  \n",
       "714               2  \n",
       "299               2  \n",
       "513               1  \n",
       "309               0  \n",
       "844               1  \n",
       "684               2  \n",
       "799               2  \n",
       "907               0  "
      ]
     },
     "execution_count": 58,
     "metadata": {},
     "output_type": "execute_result"
    }
   ],
   "source": [
    "x_test_data.sample(10)"
   ]
  },
  {
   "cell_type": "code",
   "execution_count": 59,
   "id": "0794a841",
   "metadata": {},
   "outputs": [
    {
     "data": {
      "text/plain": [
       "(184, 11)"
      ]
     },
     "execution_count": 59,
     "metadata": {},
     "output_type": "execute_result"
    }
   ],
   "source": [
    "x_test_data.shape"
   ]
  },
  {
   "cell_type": "code",
   "execution_count": 60,
   "id": "a92fc13c",
   "metadata": {},
   "outputs": [
    {
     "data": {
      "text/plain": [
       "835    1\n",
       "343    1\n",
       "245    0\n",
       "533    1\n",
       "624    1\n",
       "802    0\n",
       "413    1\n",
       "885    0\n",
       "345    1\n",
       "48     0\n",
       "Name: HeartDisease, dtype: int64"
      ]
     },
     "execution_count": 60,
     "metadata": {},
     "output_type": "execute_result"
    }
   ],
   "source": [
    "y_train_data.sample(10)"
   ]
  },
  {
   "cell_type": "code",
   "execution_count": 61,
   "id": "b2c32fda",
   "metadata": {},
   "outputs": [
    {
     "data": {
      "text/plain": [
       "(734,)"
      ]
     },
     "execution_count": 61,
     "metadata": {},
     "output_type": "execute_result"
    }
   ],
   "source": [
    "y_train_data.shape"
   ]
  },
  {
   "cell_type": "code",
   "execution_count": 62,
   "id": "7f9e3c88",
   "metadata": {},
   "outputs": [
    {
     "data": {
      "text/plain": [
       "525    0\n",
       "54     0\n",
       "247    1\n",
       "96     0\n",
       "208    0\n",
       "732    1\n",
       "352    1\n",
       "744    1\n",
       "23     1\n",
       "239    1\n",
       "Name: HeartDisease, dtype: int64"
      ]
     },
     "execution_count": 62,
     "metadata": {},
     "output_type": "execute_result"
    }
   ],
   "source": [
    "y_test_data.sample(10)"
   ]
  },
  {
   "cell_type": "code",
   "execution_count": 63,
   "id": "43749051",
   "metadata": {},
   "outputs": [
    {
     "data": {
      "text/plain": [
       "(184,)"
      ]
     },
     "execution_count": 63,
     "metadata": {},
     "output_type": "execute_result"
    }
   ],
   "source": [
    "y_test_data.shape"
   ]
  },
  {
   "cell_type": "markdown",
   "id": "0f932669",
   "metadata": {},
   "source": [
    "Here random_state is making our data deterministic."
   ]
  },
  {
   "cell_type": "markdown",
   "id": "bc63fc74",
   "metadata": {},
   "source": [
    "Importing StandardScaler from sklearn.preprocessing to scale our data"
   ]
  },
  {
   "cell_type": "code",
   "execution_count": 64,
   "id": "fcdf0a90",
   "metadata": {},
   "outputs": [],
   "source": [
    "from sklearn.preprocessing import StandardScaler # use to scale our data"
   ]
  },
  {
   "cell_type": "code",
   "execution_count": 65,
   "id": "f7b95962",
   "metadata": {},
   "outputs": [],
   "source": [
    "scaler = StandardScaler()"
   ]
  },
  {
   "cell_type": "code",
   "execution_count": 66,
   "id": "dc904b64",
   "metadata": {},
   "outputs": [
    {
     "data": {
      "text/plain": [
       "StandardScaler()"
      ]
     },
     "execution_count": 66,
     "metadata": {},
     "output_type": "execute_result"
    }
   ],
   "source": [
    "scaler.fit(x_train_data)"
   ]
  },
  {
   "cell_type": "code",
   "execution_count": 67,
   "id": "ca18fa08",
   "metadata": {},
   "outputs": [],
   "source": [
    "scaled_x_train = scaler.transform(x_train_data)  #scaling of trainning data #standard scaling\n",
    "scaled_x_test = scaler.transform(x_test_data)"
   ]
  },
  {
   "cell_type": "code",
   "execution_count": 68,
   "id": "fa2418d1",
   "metadata": {},
   "outputs": [
    {
     "data": {
      "text/plain": [
       "array([[-1.24506731, -0.70898547,  0.372803  , ...,  0.01734236,\n",
       "        -0.83846064, -2.25746543],\n",
       "       [-1.8862362 , -0.16628515,  0.08614581, ...,  0.01734236,\n",
       "        -0.83846064,  1.07985506],\n",
       "       [ 0.25099346,  0.91911549,  0.12313384, ...,  0.01734236,\n",
       "         1.19266183, -0.58880518],\n",
       "       ...,\n",
       "       [ 0.67843939, -0.16628515,  0.49301407, ...,  0.01734236,\n",
       "         1.19266183,  1.07985506],\n",
       "       [ 0.67843939,  1.02765555, -1.84647842, ...,  1.60850411,\n",
       "         1.19266183,  1.07985506],\n",
       "       [-1.45879027,  0.91911549,  1.77834789, ...,  0.01734236,\n",
       "        -0.83846064, -0.58880518]])"
      ]
     },
     "execution_count": 68,
     "metadata": {},
     "output_type": "execute_result"
    }
   ],
   "source": [
    "scaled_x_train"
   ]
  },
  {
   "cell_type": "code",
   "execution_count": 69,
   "id": "dd880844",
   "metadata": {},
   "outputs": [],
   "source": [
    "scaled_x_train_data = pd.DataFrame(scaled_x_train, columns = new_dataset.drop('HeartDisease', axis=1).columns)"
   ]
  },
  {
   "cell_type": "code",
   "execution_count": 70,
   "id": "e37df417",
   "metadata": {},
   "outputs": [
    {
     "data": {
      "text/plain": [
       "(734, 11)"
      ]
     },
     "execution_count": 70,
     "metadata": {},
     "output_type": "execute_result"
    }
   ],
   "source": [
    "scaled_x_train_data.shape"
   ]
  },
  {
   "cell_type": "code",
   "execution_count": 71,
   "id": "eff537cb",
   "metadata": {},
   "outputs": [
    {
     "data": {
      "text/html": [
       "<div>\n",
       "<style scoped>\n",
       "    .dataframe tbody tr th:only-of-type {\n",
       "        vertical-align: middle;\n",
       "    }\n",
       "\n",
       "    .dataframe tbody tr th {\n",
       "        vertical-align: top;\n",
       "    }\n",
       "\n",
       "    .dataframe thead th {\n",
       "        text-align: right;\n",
       "    }\n",
       "</style>\n",
       "<table border=\"1\" class=\"dataframe\">\n",
       "  <thead>\n",
       "    <tr style=\"text-align: right;\">\n",
       "      <th></th>\n",
       "      <th>Age</th>\n",
       "      <th>RestingBP</th>\n",
       "      <th>Cholesterol</th>\n",
       "      <th>FastingBS</th>\n",
       "      <th>MaxHR</th>\n",
       "      <th>Oldpeak</th>\n",
       "      <th>Label Sex</th>\n",
       "      <th>Label ChestPainType</th>\n",
       "      <th>Label RestingECG</th>\n",
       "      <th>Label ExerciseAngina</th>\n",
       "      <th>Label ST_Slope</th>\n",
       "    </tr>\n",
       "  </thead>\n",
       "  <tbody>\n",
       "    <tr>\n",
       "      <th>199</th>\n",
       "      <td>0.144132</td>\n",
       "      <td>0.376415</td>\n",
       "      <td>0.271086</td>\n",
       "      <td>-0.542709</td>\n",
       "      <td>-1.034232</td>\n",
       "      <td>-0.374271</td>\n",
       "      <td>0.540605</td>\n",
       "      <td>-0.809746</td>\n",
       "      <td>0.017342</td>\n",
       "      <td>1.192662</td>\n",
       "      <td>-0.588805</td>\n",
       "    </tr>\n",
       "    <tr>\n",
       "      <th>704</th>\n",
       "      <td>-0.283314</td>\n",
       "      <td>0.105065</td>\n",
       "      <td>-0.366957</td>\n",
       "      <td>-0.542709</td>\n",
       "      <td>0.546047</td>\n",
       "      <td>1.011777</td>\n",
       "      <td>0.540605</td>\n",
       "      <td>1.316743</td>\n",
       "      <td>0.017342</td>\n",
       "      <td>-0.838461</td>\n",
       "      <td>-0.588805</td>\n",
       "    </tr>\n",
       "    <tr>\n",
       "      <th>374</th>\n",
       "      <td>0.357855</td>\n",
       "      <td>0.919115</td>\n",
       "      <td>0.705695</td>\n",
       "      <td>-0.542709</td>\n",
       "      <td>-0.955218</td>\n",
       "      <td>-0.281867</td>\n",
       "      <td>0.540605</td>\n",
       "      <td>-0.809746</td>\n",
       "      <td>-1.573819</td>\n",
       "      <td>1.192662</td>\n",
       "      <td>-0.588805</td>\n",
       "    </tr>\n",
       "    <tr>\n",
       "      <th>516</th>\n",
       "      <td>-0.069591</td>\n",
       "      <td>0.593495</td>\n",
       "      <td>0.927623</td>\n",
       "      <td>1.842609</td>\n",
       "      <td>-0.323107</td>\n",
       "      <td>0.549761</td>\n",
       "      <td>0.540605</td>\n",
       "      <td>-0.809746</td>\n",
       "      <td>1.608504</td>\n",
       "      <td>1.192662</td>\n",
       "      <td>-0.588805</td>\n",
       "    </tr>\n",
       "    <tr>\n",
       "      <th>363</th>\n",
       "      <td>-1.351929</td>\n",
       "      <td>-0.708985</td>\n",
       "      <td>0.844400</td>\n",
       "      <td>-0.542709</td>\n",
       "      <td>0.941116</td>\n",
       "      <td>-0.836286</td>\n",
       "      <td>0.540605</td>\n",
       "      <td>0.253498</td>\n",
       "      <td>1.608504</td>\n",
       "      <td>-0.838461</td>\n",
       "      <td>1.079855</td>\n",
       "    </tr>\n",
       "    <tr>\n",
       "      <th>585</th>\n",
       "      <td>-0.603898</td>\n",
       "      <td>-0.057745</td>\n",
       "      <td>0.187863</td>\n",
       "      <td>1.842609</td>\n",
       "      <td>1.020130</td>\n",
       "      <td>-0.836286</td>\n",
       "      <td>0.540605</td>\n",
       "      <td>1.316743</td>\n",
       "      <td>1.608504</td>\n",
       "      <td>-0.838461</td>\n",
       "      <td>-0.588805</td>\n",
       "    </tr>\n",
       "    <tr>\n",
       "      <th>33</th>\n",
       "      <td>-0.924483</td>\n",
       "      <td>0.267875</td>\n",
       "      <td>0.335815</td>\n",
       "      <td>-0.542709</td>\n",
       "      <td>0.625060</td>\n",
       "      <td>-0.651480</td>\n",
       "      <td>-1.849780</td>\n",
       "      <td>-0.809746</td>\n",
       "      <td>-1.573819</td>\n",
       "      <td>1.192662</td>\n",
       "      <td>-0.588805</td>\n",
       "    </tr>\n",
       "    <tr>\n",
       "      <th>593</th>\n",
       "      <td>-0.390175</td>\n",
       "      <td>0.376415</td>\n",
       "      <td>0.150875</td>\n",
       "      <td>-0.542709</td>\n",
       "      <td>1.336186</td>\n",
       "      <td>-0.836286</td>\n",
       "      <td>0.540605</td>\n",
       "      <td>0.253498</td>\n",
       "      <td>0.017342</td>\n",
       "      <td>-0.838461</td>\n",
       "      <td>1.079855</td>\n",
       "    </tr>\n",
       "    <tr>\n",
       "      <th>639</th>\n",
       "      <td>1.533331</td>\n",
       "      <td>-0.817526</td>\n",
       "      <td>0.714942</td>\n",
       "      <td>-0.542709</td>\n",
       "      <td>0.585553</td>\n",
       "      <td>0.087745</td>\n",
       "      <td>0.540605</td>\n",
       "      <td>1.316743</td>\n",
       "      <td>0.017342</td>\n",
       "      <td>-0.838461</td>\n",
       "      <td>1.079855</td>\n",
       "    </tr>\n",
       "    <tr>\n",
       "      <th>60</th>\n",
       "      <td>1.960777</td>\n",
       "      <td>0.539225</td>\n",
       "      <td>0.104640</td>\n",
       "      <td>-0.542709</td>\n",
       "      <td>-1.073739</td>\n",
       "      <td>0.457358</td>\n",
       "      <td>0.540605</td>\n",
       "      <td>-0.809746</td>\n",
       "      <td>0.017342</td>\n",
       "      <td>1.192662</td>\n",
       "      <td>-0.588805</td>\n",
       "    </tr>\n",
       "  </tbody>\n",
       "</table>\n",
       "</div>"
      ],
      "text/plain": [
       "          Age  RestingBP  Cholesterol  FastingBS     MaxHR   Oldpeak  \\\n",
       "199  0.144132   0.376415     0.271086  -0.542709 -1.034232 -0.374271   \n",
       "704 -0.283314   0.105065    -0.366957  -0.542709  0.546047  1.011777   \n",
       "374  0.357855   0.919115     0.705695  -0.542709 -0.955218 -0.281867   \n",
       "516 -0.069591   0.593495     0.927623   1.842609 -0.323107  0.549761   \n",
       "363 -1.351929  -0.708985     0.844400  -0.542709  0.941116 -0.836286   \n",
       "585 -0.603898  -0.057745     0.187863   1.842609  1.020130 -0.836286   \n",
       "33  -0.924483   0.267875     0.335815  -0.542709  0.625060 -0.651480   \n",
       "593 -0.390175   0.376415     0.150875  -0.542709  1.336186 -0.836286   \n",
       "639  1.533331  -0.817526     0.714942  -0.542709  0.585553  0.087745   \n",
       "60   1.960777   0.539225     0.104640  -0.542709 -1.073739  0.457358   \n",
       "\n",
       "     Label Sex  Label ChestPainType  Label RestingECG  Label ExerciseAngina  \\\n",
       "199   0.540605            -0.809746          0.017342              1.192662   \n",
       "704   0.540605             1.316743          0.017342             -0.838461   \n",
       "374   0.540605            -0.809746         -1.573819              1.192662   \n",
       "516   0.540605            -0.809746          1.608504              1.192662   \n",
       "363   0.540605             0.253498          1.608504             -0.838461   \n",
       "585   0.540605             1.316743          1.608504             -0.838461   \n",
       "33   -1.849780            -0.809746         -1.573819              1.192662   \n",
       "593   0.540605             0.253498          0.017342             -0.838461   \n",
       "639   0.540605             1.316743          0.017342             -0.838461   \n",
       "60    0.540605            -0.809746          0.017342              1.192662   \n",
       "\n",
       "     Label ST_Slope  \n",
       "199       -0.588805  \n",
       "704       -0.588805  \n",
       "374       -0.588805  \n",
       "516       -0.588805  \n",
       "363        1.079855  \n",
       "585       -0.588805  \n",
       "33        -0.588805  \n",
       "593        1.079855  \n",
       "639        1.079855  \n",
       "60        -0.588805  "
      ]
     },
     "execution_count": 71,
     "metadata": {},
     "output_type": "execute_result"
    }
   ],
   "source": [
    "scaled_x_train_data.sample(10)"
   ]
  },
  {
   "cell_type": "code",
   "execution_count": 72,
   "id": "47f355af",
   "metadata": {},
   "outputs": [
    {
     "data": {
      "text/plain": [
       "array([[ 0.99902384,  0.37641517, -0.04331227, ...,  0.01734236,\n",
       "        -0.83846064,  1.07985506],\n",
       "       [-0.06959099,  0.64776533,  2.94347064, ...,  0.01734236,\n",
       "        -0.83846064, -0.58880518],\n",
       "       [ 1.2127468 ,  1.46181581, -1.84647842, ...,  1.60850411,\n",
       "        -0.83846064, -0.58880518],\n",
       "       ...,\n",
       "       [ 1.10588532,  0.4306852 ,  0.40979102, ...,  1.60850411,\n",
       "         1.19266183, -0.58880518],\n",
       "       [-0.49703693, -0.16628515,  0.61322515, ...,  0.01734236,\n",
       "        -0.83846064,  1.07985506],\n",
       "       [ 1.10588532,  0.5934953 , -1.84647842, ...,  1.60850411,\n",
       "         1.19266183, -0.58880518]])"
      ]
     },
     "execution_count": 72,
     "metadata": {},
     "output_type": "execute_result"
    }
   ],
   "source": [
    "scaled_x_test"
   ]
  },
  {
   "cell_type": "code",
   "execution_count": 73,
   "id": "e326a63d",
   "metadata": {},
   "outputs": [],
   "source": [
    "scaled_x_test_data = pd.DataFrame(scaled_x_test, columns = new_dataset.drop('HeartDisease', axis=1).columns)"
   ]
  },
  {
   "cell_type": "code",
   "execution_count": 74,
   "id": "dbb27ed3",
   "metadata": {},
   "outputs": [
    {
     "data": {
      "text/plain": [
       "(184, 11)"
      ]
     },
     "execution_count": 74,
     "metadata": {},
     "output_type": "execute_result"
    }
   ],
   "source": [
    "scaled_x_test_data.shape"
   ]
  },
  {
   "cell_type": "code",
   "execution_count": 75,
   "id": "57f27926",
   "metadata": {},
   "outputs": [
    {
     "data": {
      "text/html": [
       "<div>\n",
       "<style scoped>\n",
       "    .dataframe tbody tr th:only-of-type {\n",
       "        vertical-align: middle;\n",
       "    }\n",
       "\n",
       "    .dataframe tbody tr th {\n",
       "        vertical-align: top;\n",
       "    }\n",
       "\n",
       "    .dataframe thead th {\n",
       "        text-align: right;\n",
       "    }\n",
       "</style>\n",
       "<table border=\"1\" class=\"dataframe\">\n",
       "  <thead>\n",
       "    <tr style=\"text-align: right;\">\n",
       "      <th></th>\n",
       "      <th>Age</th>\n",
       "      <th>RestingBP</th>\n",
       "      <th>Cholesterol</th>\n",
       "      <th>FastingBS</th>\n",
       "      <th>MaxHR</th>\n",
       "      <th>Oldpeak</th>\n",
       "      <th>Label Sex</th>\n",
       "      <th>Label ChestPainType</th>\n",
       "      <th>Label RestingECG</th>\n",
       "      <th>Label ExerciseAngina</th>\n",
       "      <th>Label ST_Slope</th>\n",
       "    </tr>\n",
       "  </thead>\n",
       "  <tbody>\n",
       "    <tr>\n",
       "      <th>176</th>\n",
       "      <td>-1.458790</td>\n",
       "      <td>-2.065736</td>\n",
       "      <td>-1.846478</td>\n",
       "      <td>1.842609</td>\n",
       "      <td>0.309005</td>\n",
       "      <td>-0.836286</td>\n",
       "      <td>0.540605</td>\n",
       "      <td>-0.809746</td>\n",
       "      <td>1.608504</td>\n",
       "      <td>-0.838461</td>\n",
       "      <td>1.079855</td>\n",
       "    </tr>\n",
       "    <tr>\n",
       "      <th>4</th>\n",
       "      <td>0.037270</td>\n",
       "      <td>-1.360226</td>\n",
       "      <td>1.010846</td>\n",
       "      <td>-0.542709</td>\n",
       "      <td>0.783088</td>\n",
       "      <td>-0.836286</td>\n",
       "      <td>0.540605</td>\n",
       "      <td>0.253498</td>\n",
       "      <td>0.017342</td>\n",
       "      <td>-0.838461</td>\n",
       "      <td>1.079855</td>\n",
       "    </tr>\n",
       "    <tr>\n",
       "      <th>29</th>\n",
       "      <td>-2.313682</td>\n",
       "      <td>-1.251686</td>\n",
       "      <td>0.234098</td>\n",
       "      <td>-0.542709</td>\n",
       "      <td>1.889283</td>\n",
       "      <td>-0.836286</td>\n",
       "      <td>0.540605</td>\n",
       "      <td>0.253498</td>\n",
       "      <td>0.017342</td>\n",
       "      <td>-0.838461</td>\n",
       "      <td>1.079855</td>\n",
       "    </tr>\n",
       "    <tr>\n",
       "      <th>98</th>\n",
       "      <td>-1.458790</td>\n",
       "      <td>-1.251686</td>\n",
       "      <td>-0.302228</td>\n",
       "      <td>-0.542709</td>\n",
       "      <td>-0.876204</td>\n",
       "      <td>1.011777</td>\n",
       "      <td>0.540605</td>\n",
       "      <td>-0.809746</td>\n",
       "      <td>-1.573819</td>\n",
       "      <td>1.192662</td>\n",
       "      <td>-0.588805</td>\n",
       "    </tr>\n",
       "    <tr>\n",
       "      <th>65</th>\n",
       "      <td>-0.283314</td>\n",
       "      <td>-0.274825</td>\n",
       "      <td>-1.846478</td>\n",
       "      <td>1.842609</td>\n",
       "      <td>-0.441628</td>\n",
       "      <td>0.272552</td>\n",
       "      <td>0.540605</td>\n",
       "      <td>-0.809746</td>\n",
       "      <td>1.608504</td>\n",
       "      <td>1.192662</td>\n",
       "      <td>-0.588805</td>\n",
       "    </tr>\n",
       "    <tr>\n",
       "      <th>149</th>\n",
       "      <td>0.464716</td>\n",
       "      <td>-0.437635</td>\n",
       "      <td>0.927623</td>\n",
       "      <td>-0.542709</td>\n",
       "      <td>1.375693</td>\n",
       "      <td>-0.836286</td>\n",
       "      <td>0.540605</td>\n",
       "      <td>-0.809746</td>\n",
       "      <td>-1.573819</td>\n",
       "      <td>-0.838461</td>\n",
       "      <td>1.079855</td>\n",
       "    </tr>\n",
       "    <tr>\n",
       "      <th>81</th>\n",
       "      <td>0.250993</td>\n",
       "      <td>-0.708985</td>\n",
       "      <td>-1.846478</td>\n",
       "      <td>-0.542709</td>\n",
       "      <td>-1.429302</td>\n",
       "      <td>-1.760318</td>\n",
       "      <td>0.540605</td>\n",
       "      <td>-0.809746</td>\n",
       "      <td>1.608504</td>\n",
       "      <td>1.192662</td>\n",
       "      <td>-2.257465</td>\n",
       "    </tr>\n",
       "    <tr>\n",
       "      <th>38</th>\n",
       "      <td>0.892162</td>\n",
       "      <td>0.105065</td>\n",
       "      <td>0.899882</td>\n",
       "      <td>-0.542709</td>\n",
       "      <td>-0.244093</td>\n",
       "      <td>0.087745</td>\n",
       "      <td>0.540605</td>\n",
       "      <td>-0.809746</td>\n",
       "      <td>0.017342</td>\n",
       "      <td>1.192662</td>\n",
       "      <td>-0.588805</td>\n",
       "    </tr>\n",
       "    <tr>\n",
       "      <th>92</th>\n",
       "      <td>0.250993</td>\n",
       "      <td>0.213605</td>\n",
       "      <td>0.076899</td>\n",
       "      <td>1.842609</td>\n",
       "      <td>-0.560148</td>\n",
       "      <td>0.826971</td>\n",
       "      <td>0.540605</td>\n",
       "      <td>1.316743</td>\n",
       "      <td>1.608504</td>\n",
       "      <td>1.192662</td>\n",
       "      <td>-0.588805</td>\n",
       "    </tr>\n",
       "    <tr>\n",
       "      <th>70</th>\n",
       "      <td>-1.458790</td>\n",
       "      <td>0.376415</td>\n",
       "      <td>-0.006324</td>\n",
       "      <td>-0.542709</td>\n",
       "      <td>1.652241</td>\n",
       "      <td>0.457358</td>\n",
       "      <td>0.540605</td>\n",
       "      <td>2.379987</td>\n",
       "      <td>0.017342</td>\n",
       "      <td>1.192662</td>\n",
       "      <td>1.079855</td>\n",
       "    </tr>\n",
       "  </tbody>\n",
       "</table>\n",
       "</div>"
      ],
      "text/plain": [
       "          Age  RestingBP  Cholesterol  FastingBS     MaxHR   Oldpeak  \\\n",
       "176 -1.458790  -2.065736    -1.846478   1.842609  0.309005 -0.836286   \n",
       "4    0.037270  -1.360226     1.010846  -0.542709  0.783088 -0.836286   \n",
       "29  -2.313682  -1.251686     0.234098  -0.542709  1.889283 -0.836286   \n",
       "98  -1.458790  -1.251686    -0.302228  -0.542709 -0.876204  1.011777   \n",
       "65  -0.283314  -0.274825    -1.846478   1.842609 -0.441628  0.272552   \n",
       "149  0.464716  -0.437635     0.927623  -0.542709  1.375693 -0.836286   \n",
       "81   0.250993  -0.708985    -1.846478  -0.542709 -1.429302 -1.760318   \n",
       "38   0.892162   0.105065     0.899882  -0.542709 -0.244093  0.087745   \n",
       "92   0.250993   0.213605     0.076899   1.842609 -0.560148  0.826971   \n",
       "70  -1.458790   0.376415    -0.006324  -0.542709  1.652241  0.457358   \n",
       "\n",
       "     Label Sex  Label ChestPainType  Label RestingECG  Label ExerciseAngina  \\\n",
       "176   0.540605            -0.809746          1.608504             -0.838461   \n",
       "4     0.540605             0.253498          0.017342             -0.838461   \n",
       "29    0.540605             0.253498          0.017342             -0.838461   \n",
       "98    0.540605            -0.809746         -1.573819              1.192662   \n",
       "65    0.540605            -0.809746          1.608504              1.192662   \n",
       "149   0.540605            -0.809746         -1.573819             -0.838461   \n",
       "81    0.540605            -0.809746          1.608504              1.192662   \n",
       "38    0.540605            -0.809746          0.017342              1.192662   \n",
       "92    0.540605             1.316743          1.608504              1.192662   \n",
       "70    0.540605             2.379987          0.017342              1.192662   \n",
       "\n",
       "     Label ST_Slope  \n",
       "176        1.079855  \n",
       "4          1.079855  \n",
       "29         1.079855  \n",
       "98        -0.588805  \n",
       "65        -0.588805  \n",
       "149        1.079855  \n",
       "81        -2.257465  \n",
       "38        -0.588805  \n",
       "92        -0.588805  \n",
       "70         1.079855  "
      ]
     },
     "execution_count": 75,
     "metadata": {},
     "output_type": "execute_result"
    }
   ],
   "source": [
    "scaled_x_test_data.sample(10)"
   ]
  },
  {
   "cell_type": "markdown",
   "id": "caa1b086",
   "metadata": {},
   "source": [
    "Now applying logistic regression on our dataset"
   ]
  },
  {
   "cell_type": "markdown",
   "id": "e4be0cc4",
   "metadata": {},
   "source": [
    "# Logistic Regression"
   ]
  },
  {
   "cell_type": "markdown",
   "id": "bf7df921",
   "metadata": {},
   "source": [
    "We will import Logistic Regression model from sklearn.linear_model and will fit it on our training data"
   ]
  },
  {
   "cell_type": "code",
   "execution_count": 76,
   "id": "d9d0717a",
   "metadata": {},
   "outputs": [],
   "source": [
    "from sklearn.linear_model import LogisticRegression"
   ]
  },
  {
   "cell_type": "code",
   "execution_count": 77,
   "id": "4f841fe3",
   "metadata": {},
   "outputs": [],
   "source": [
    "LR_model = LogisticRegression()"
   ]
  },
  {
   "cell_type": "code",
   "execution_count": 78,
   "id": "5eae7692",
   "metadata": {},
   "outputs": [
    {
     "name": "stderr",
     "output_type": "stream",
     "text": [
      "C:\\Users\\hp\\anaconda3\\lib\\site-packages\\sklearn\\linear_model\\_logistic.py:763: ConvergenceWarning: lbfgs failed to converge (status=1):\n",
      "STOP: TOTAL NO. of ITERATIONS REACHED LIMIT.\n",
      "\n",
      "Increase the number of iterations (max_iter) or scale the data as shown in:\n",
      "    https://scikit-learn.org/stable/modules/preprocessing.html\n",
      "Please also refer to the documentation for alternative solver options:\n",
      "    https://scikit-learn.org/stable/modules/linear_model.html#logistic-regression\n",
      "  n_iter_i = _check_optimize_result(\n"
     ]
    },
    {
     "data": {
      "text/plain": [
       "LogisticRegression()"
      ]
     },
     "execution_count": 78,
     "metadata": {},
     "output_type": "execute_result"
    }
   ],
   "source": [
    "LR = LR_model.fit(x_train_data, y_train_data)\n",
    "LR"
   ]
  },
  {
   "cell_type": "code",
   "execution_count": 79,
   "id": "ad3b4228",
   "metadata": {},
   "outputs": [
    {
     "data": {
      "text/plain": [
       "LogisticRegression()"
      ]
     },
     "execution_count": 79,
     "metadata": {},
     "output_type": "execute_result"
    }
   ],
   "source": [
    "LR_scaled_data = LR_model.fit(scaled_x_train_data, y_train_data)\n",
    "LR_scaled_data"
   ]
  },
  {
   "cell_type": "code",
   "execution_count": 80,
   "id": "0e041b88",
   "metadata": {},
   "outputs": [
    {
     "data": {
      "text/plain": [
       "array([0, 0, 0, 0, 0, 0, 0, 0, 0, 0, 0, 0, 0, 0, 0, 0, 0, 0, 0, 0, 0, 0,\n",
       "       0, 0, 0, 0, 0, 0, 0, 0, 0, 0, 0, 0, 0, 0, 0, 0, 0, 0, 0, 0, 0, 0,\n",
       "       0, 0, 0, 0, 0, 0, 0, 0, 0, 0, 0, 0, 0, 0, 0, 0, 0, 0, 0, 0, 0, 0,\n",
       "       0, 0, 0, 0, 0, 0, 0, 0, 0, 0, 0, 0, 0, 0, 0, 0, 0, 0, 0, 0, 0, 0,\n",
       "       0, 0, 0, 0, 0, 0, 0, 0, 0, 0, 0, 0, 0, 0, 0, 0, 0, 0, 0, 0, 0, 0,\n",
       "       0, 0, 0, 0, 0, 0, 0, 0, 0, 0, 0, 0, 0, 0, 0, 0, 0, 0, 0, 0, 0, 0,\n",
       "       0, 0, 0, 0, 0, 0, 0, 0, 0, 0, 0, 0, 0, 0, 0, 0, 0, 0, 0, 0, 0, 0,\n",
       "       0, 0, 0, 0, 0, 0, 0, 0, 0, 0, 0, 0, 0, 0, 0, 0, 0, 0, 0, 0, 0, 0,\n",
       "       0, 0, 0, 0, 0, 0, 0, 0], dtype=int64)"
      ]
     },
     "execution_count": 80,
     "metadata": {},
     "output_type": "execute_result"
    }
   ],
   "source": [
    "LR_predictions  = LR.predict(x_test_data)\n",
    "LR_predictions"
   ]
  },
  {
   "cell_type": "code",
   "execution_count": 81,
   "id": "53c67ad2",
   "metadata": {},
   "outputs": [
    {
     "data": {
      "text/plain": [
       "array([0, 0, 1, 1, 0, 1, 1, 0, 0, 1, 0, 0, 1, 0, 1, 1, 0, 1, 1, 0, 1, 1,\n",
       "       0, 1, 1, 1, 0, 1, 0, 0, 1, 0, 1, 1, 1, 1, 1, 0, 1, 1, 1, 1, 1, 0,\n",
       "       0, 1, 0, 1, 1, 0, 0, 0, 1, 1, 1, 0, 0, 1, 0, 1, 0, 0, 0, 1, 0, 1,\n",
       "       1, 1, 1, 0, 0, 0, 1, 1, 0, 1, 0, 1, 0, 1, 0, 1, 1, 0, 1, 1, 0, 1,\n",
       "       0, 0, 0, 1, 1, 0, 1, 0, 1, 0, 1, 1, 0, 1, 0, 0, 1, 1, 0, 1, 1, 0,\n",
       "       1, 1, 0, 0, 1, 0, 1, 0, 1, 0, 1, 1, 0, 1, 0, 0, 0, 0, 0, 0, 0, 1,\n",
       "       1, 0, 1, 0, 1, 1, 0, 1, 0, 0, 1, 1, 1, 1, 0, 0, 0, 0, 0, 1, 1, 0,\n",
       "       1, 0, 0, 0, 0, 1, 0, 0, 1, 0, 1, 1, 1, 1, 0, 0, 1, 1, 0, 1, 0, 1,\n",
       "       1, 1, 0, 0, 1, 1, 0, 1], dtype=int64)"
      ]
     },
     "execution_count": 81,
     "metadata": {},
     "output_type": "execute_result"
    }
   ],
   "source": [
    "LR_scaled_data_predictions = LR_scaled_data.predict(scaled_x_test_data)\n",
    "LR_scaled_data_predictions"
   ]
  },
  {
   "cell_type": "code",
   "execution_count": 82,
   "id": "55598ebe",
   "metadata": {},
   "outputs": [],
   "source": [
    "def sigmoid(x):\n",
    "  return 1 / (1 + np.exp(-x))  # "
   ]
  },
  {
   "cell_type": "code",
   "execution_count": 83,
   "id": "ee2903f0",
   "metadata": {},
   "outputs": [],
   "source": [
    "def prediction_function(age):\n",
    "    z=  0.1596  *age - 6.8299\n",
    "    y = sigmoid(z)\n",
    "    return y"
   ]
  },
  {
   "cell_type": "code",
   "execution_count": 84,
   "id": "c889a3f3",
   "metadata": {},
   "outputs": [
    {
     "name": "stdout",
     "output_type": "stream",
     "text": [
      "LR_B0 :  [0.38531992]\n",
      "LR_B1 :  [[ 0.13940167  0.06455664 -0.49245177  0.40352478 -0.20065071  0.48344787\n",
      "   0.49672226 -0.56600312 -0.1737623   0.62624317 -1.00912276]]\n"
     ]
    }
   ],
   "source": [
    "print(\"LR_B0 : \" , LR.intercept_)\n",
    "print(\"LR_B1 : \" , LR.coef_)"
   ]
  },
  {
   "cell_type": "code",
   "execution_count": 85,
   "id": "ca35b35e",
   "metadata": {},
   "outputs": [
    {
     "data": {
      "text/plain": [
       "0.8567432736620471"
      ]
     },
     "execution_count": 85,
     "metadata": {},
     "output_type": "execute_result"
    }
   ],
   "source": [
    "age = 54\n",
    "prediction_function(age)"
   ]
  },
  {
   "cell_type": "code",
   "execution_count": 86,
   "id": "6e7de318",
   "metadata": {},
   "outputs": [
    {
     "name": "stdout",
     "output_type": "stream",
     "text": [
      "LR_scaled_data_B0 :  [0.38531992]\n",
      "LR_scaled_data_B1 :  [[ 0.13940167  0.06455664 -0.49245177  0.40352478 -0.20065071  0.48344787\n",
      "   0.49672226 -0.56600312 -0.1737623   0.62624317 -1.00912276]]\n"
     ]
    }
   ],
   "source": [
    "print(\"LR_scaled_data_B0 : \" , LR_scaled_data.intercept_)\n",
    "print(\"LR_scaled_data_B1 : \" , LR_scaled_data.coef_)"
   ]
  },
  {
   "cell_type": "code",
   "execution_count": 87,
   "id": "5972e487",
   "metadata": {},
   "outputs": [
    {
     "data": {
      "text/plain": [
       "0.8567432736620471"
      ]
     },
     "execution_count": 87,
     "metadata": {},
     "output_type": "execute_result"
    }
   ],
   "source": [
    "age = 54\n",
    "prediction_function(age)"
   ]
  },
  {
   "cell_type": "markdown",
   "id": "78df43b3",
   "metadata": {},
   "source": [
    "Importing classification_report, confusion_matrix and accuracy_score from sklearn.metrics to measure the performance of our model"
   ]
  },
  {
   "cell_type": "code",
   "execution_count": 88,
   "id": "532a0e1d",
   "metadata": {},
   "outputs": [],
   "source": [
    "from sklearn.metrics import classification_report\n",
    "from sklearn.metrics import confusion_matrix\n",
    "from sklearn.metrics import accuracy_score"
   ]
  },
  {
   "cell_type": "code",
   "execution_count": 89,
   "id": "7ca79177",
   "metadata": {},
   "outputs": [
    {
     "name": "stdout",
     "output_type": "stream",
     "text": [
      "[[ 77   0]\n",
      " [107   0]]\n"
     ]
    }
   ],
   "source": [
    "print(confusion_matrix(y_test_data, LR_predictions))"
   ]
  },
  {
   "cell_type": "code",
   "execution_count": 90,
   "id": "8b9f5554",
   "metadata": {},
   "outputs": [
    {
     "name": "stdout",
     "output_type": "stream",
     "text": [
      "[[68  9]\n",
      " [19 88]]\n"
     ]
    }
   ],
   "source": [
    "print(confusion_matrix(y_test_data, LR_scaled_data_predictions))"
   ]
  },
  {
   "cell_type": "code",
   "execution_count": 91,
   "id": "04ed10b3",
   "metadata": {},
   "outputs": [
    {
     "data": {
      "text/plain": [
       "Text(69.0, 0.5, 'Truth')"
      ]
     },
     "execution_count": 91,
     "metadata": {},
     "output_type": "execute_result"
    },
    {
     "data": {
      "image/png": "[encoded data removed]",
      "text/plain": [
       "<Figure size 720x504 with 2 Axes>"
      ]
     },
     "metadata": {
      "needs_background": "light"
     },
     "output_type": "display_data"
    }
   ],
   "source": [
    "LR_cm = confusion_matrix(y_test_data, LR_predictions)\n",
    "plt.figure(figsize=(10,7))\n",
    "sns.heatmap(LR_cm, annot=True)\n",
    "plt.xlabel('Predicted')\n",
    "plt.ylabel('Truth')"
   ]
  },
  {
   "cell_type": "code",
   "execution_count": 92,
   "id": "9ad330bf",
   "metadata": {},
   "outputs": [
    {
     "data": {
      "text/plain": [
       "Text(69.0, 0.5, 'Truth')"
      ]
     },
     "execution_count": 92,
     "metadata": {},
     "output_type": "execute_result"
    },
    {
     "data": {
      "image/png": "[encoded data removed]",
      "text/plain": [
       "<Figure size 720x504 with 2 Axes>"
      ]
     },
     "metadata": {
      "needs_background": "light"
     },
     "output_type": "display_data"
    }
   ],
   "source": [
    "LR_scaled_data_cm = confusion_matrix(y_test_data, LR_scaled_data_predictions)\n",
    "plt.figure(figsize=(10,7))\n",
    "sns.heatmap(LR_scaled_data_cm, annot=True)\n",
    "plt.xlabel('Predicted')\n",
    "plt.ylabel('Truth')"
   ]
  },
  {
   "cell_type": "code",
   "execution_count": 93,
   "id": "38d11937",
   "metadata": {},
   "outputs": [
    {
     "name": "stdout",
     "output_type": "stream",
     "text": [
      "Accuracy of unscaled data: 0.41847826086956524\n"
     ]
    }
   ],
   "source": [
    "print(\"Accuracy of unscaled data:\", accuracy_score(y_test_data, LR_predictions))"
   ]
  },
  {
   "cell_type": "code",
   "execution_count": 94,
   "id": "dcfd73ac",
   "metadata": {},
   "outputs": [
    {
     "name": "stdout",
     "output_type": "stream",
     "text": [
      "Accuracy of scaled data: 0.8478260869565217\n"
     ]
    }
   ],
   "source": [
    "print(\"Accuracy of scaled data:\", accuracy_score(y_test_data, LR_scaled_data_predictions))"
   ]
  },
  {
   "cell_type": "markdown",
   "id": "9b568273",
   "metadata": {},
   "source": [
    "Now applying K Nearest Neighbour on our dataset"
   ]
  },
  {
   "cell_type": "markdown",
   "id": "46aef381",
   "metadata": {},
   "source": [
    "# K Nearest Neighbour"
   ]
  },
  {
   "cell_type": "code",
   "execution_count": 95,
   "id": "b90e46ad",
   "metadata": {},
   "outputs": [],
   "source": [
    "from sklearn.neighbors import KNeighborsClassifier"
   ]
  },
  {
   "cell_type": "code",
   "execution_count": 96,
   "id": "422b4b85",
   "metadata": {},
   "outputs": [],
   "source": [
    "KNN_model = KNeighborsClassifier(n_neighbors = 5)"
   ]
  },
  {
   "cell_type": "markdown",
   "id": "9cd9a020",
   "metadata": {},
   "source": [
    "Due to n_neighbors=5 K Nearest Neighbour model will compare given data with the data of 5 nearest neighbours"
   ]
  },
  {
   "cell_type": "code",
   "execution_count": 97,
   "id": "38f25a6a",
   "metadata": {},
   "outputs": [],
   "source": [
    "KNN_Classifier = KNN_model.fit(x_train_data, y_train_data)"
   ]
  },
  {
   "cell_type": "code",
   "execution_count": 98,
   "id": "c64fb1ba",
   "metadata": {},
   "outputs": [
    {
     "data": {
      "text/plain": [
       "KNeighborsClassifier()"
      ]
     },
     "execution_count": 98,
     "metadata": {},
     "output_type": "execute_result"
    }
   ],
   "source": [
    "KNN_Classifier"
   ]
  },
  {
   "cell_type": "code",
   "execution_count": 99,
   "id": "045f2013",
   "metadata": {},
   "outputs": [],
   "source": [
    "KNN_Classifier_scaled_data = KNN_model.fit(scaled_x_train_data, y_train_data)"
   ]
  },
  {
   "cell_type": "code",
   "execution_count": 100,
   "id": "2ee6aa62",
   "metadata": {},
   "outputs": [
    {
     "data": {
      "text/plain": [
       "KNeighborsClassifier()"
      ]
     },
     "execution_count": 100,
     "metadata": {},
     "output_type": "execute_result"
    }
   ],
   "source": [
    "KNN_Classifier_scaled_data"
   ]
  },
  {
   "cell_type": "code",
   "execution_count": 101,
   "id": "8873dee2",
   "metadata": {},
   "outputs": [],
   "source": [
    "KNN_predictions = KNN_Classifier.predict(x_test_data)"
   ]
  },
  {
   "cell_type": "code",
   "execution_count": 102,
   "id": "f7c4aef0",
   "metadata": {},
   "outputs": [
    {
     "data": {
      "text/plain": [
       "array([0, 1, 1, 1, 0, 0, 1, 1, 0, 1, 0, 1, 0, 0, 1, 1, 0, 0, 0, 1, 1, 0,\n",
       "       0, 0, 1, 0, 0, 1, 0, 0, 0, 0, 1, 0, 1, 0, 0, 0, 0, 0, 1, 0, 1, 0,\n",
       "       1, 0, 1, 0, 1, 1, 0, 0, 1, 1, 0, 1, 1, 1, 0, 0, 1, 0, 0, 1, 0, 1,\n",
       "       1, 0, 1, 0, 0, 0, 1, 1, 0, 0, 0, 0, 0, 1, 0, 1, 1, 0, 0, 1, 0, 1,\n",
       "       0, 1, 1, 1, 1, 0, 0, 0, 1, 1, 0, 1, 0, 1, 1, 0, 1, 1, 0, 1, 0, 1,\n",
       "       0, 1, 0, 0, 0, 0, 1, 1, 0, 0, 1, 1, 1, 0, 0, 0, 1, 0, 0, 0, 1, 1,\n",
       "       0, 1, 1, 0, 0, 0, 0, 1, 1, 1, 1, 0, 1, 1, 0, 0, 1, 0, 0, 1, 1, 0,\n",
       "       0, 0, 0, 0, 0, 0, 1, 0, 1, 0, 1, 1, 1, 1, 1, 0, 1, 1, 0, 1, 0, 0,\n",
       "       1, 0, 1, 0, 0, 1, 0, 1], dtype=int64)"
      ]
     },
     "execution_count": 102,
     "metadata": {},
     "output_type": "execute_result"
    }
   ],
   "source": [
    "KNN_predictions"
   ]
  },
  {
   "cell_type": "code",
   "execution_count": 103,
   "id": "04cb78ce",
   "metadata": {},
   "outputs": [],
   "source": [
    "KNN_scaled_data_predictions = KNN_Classifier_scaled_data.predict(scaled_x_test_data)"
   ]
  },
  {
   "cell_type": "code",
   "execution_count": 104,
   "id": "b23d1887",
   "metadata": {},
   "outputs": [
    {
     "data": {
      "text/plain": [
       "array([0, 1, 1, 1, 0, 0, 1, 0, 0, 1, 1, 0, 0, 0, 1, 1, 0, 1, 1, 0, 0, 1,\n",
       "       0, 0, 1, 1, 0, 1, 0, 0, 0, 0, 0, 1, 1, 1, 1, 0, 1, 1, 1, 1, 1, 0,\n",
       "       0, 1, 0, 1, 1, 0, 0, 0, 1, 1, 1, 0, 0, 0, 1, 1, 0, 0, 0, 1, 0, 1,\n",
       "       1, 1, 1, 1, 0, 0, 1, 1, 0, 1, 0, 1, 0, 1, 0, 1, 1, 0, 1, 0, 0, 1,\n",
       "       0, 0, 0, 1, 1, 0, 1, 0, 1, 0, 1, 1, 0, 1, 1, 0, 0, 1, 0, 1, 1, 0,\n",
       "       0, 1, 0, 1, 1, 0, 1, 0, 1, 0, 1, 1, 1, 1, 0, 0, 0, 0, 0, 0, 1, 1,\n",
       "       1, 0, 1, 0, 1, 1, 0, 1, 0, 0, 1, 1, 1, 1, 1, 0, 0, 0, 0, 1, 1, 0,\n",
       "       1, 0, 0, 0, 0, 1, 0, 0, 1, 0, 1, 1, 1, 1, 0, 1, 1, 1, 0, 1, 0, 1,\n",
       "       1, 1, 0, 0, 1, 1, 0, 1], dtype=int64)"
      ]
     },
     "execution_count": 104,
     "metadata": {},
     "output_type": "execute_result"
    }
   ],
   "source": [
    "KNN_scaled_data_predictions"
   ]
  },
  {
   "cell_type": "code",
   "execution_count": 105,
   "id": "1a71e45b",
   "metadata": {},
   "outputs": [
    {
     "name": "stdout",
     "output_type": "stream",
     "text": [
      "              precision    recall  f1-score   support\n",
      "\n",
      "           0       0.55      0.70      0.61        77\n",
      "           1       0.73      0.58      0.65       107\n",
      "\n",
      "    accuracy                           0.63       184\n",
      "   macro avg       0.64      0.64      0.63       184\n",
      "weighted avg       0.65      0.63      0.63       184\n",
      "\n"
     ]
    }
   ],
   "source": [
    "print(classification_report(y_test_data, KNN_predictions))"
   ]
  },
  {
   "cell_type": "code",
   "execution_count": 106,
   "id": "bb36c122",
   "metadata": {},
   "outputs": [
    {
     "name": "stdout",
     "output_type": "stream",
     "text": [
      "              precision    recall  f1-score   support\n",
      "\n",
      "           0       0.78      0.88      0.83        77\n",
      "           1       0.91      0.82      0.86       107\n",
      "\n",
      "    accuracy                           0.85       184\n",
      "   macro avg       0.84      0.85      0.85       184\n",
      "weighted avg       0.85      0.85      0.85       184\n",
      "\n"
     ]
    }
   ],
   "source": [
    "print(classification_report(y_test_data, KNN_scaled_data_predictions))"
   ]
  },
  {
   "cell_type": "code",
   "execution_count": 107,
   "id": "e6145f28",
   "metadata": {},
   "outputs": [
    {
     "name": "stdout",
     "output_type": "stream",
     "text": [
      "[[54 23]\n",
      " [45 62]]\n"
     ]
    }
   ],
   "source": [
    "print(confusion_matrix(y_test_data, KNN_predictions))"
   ]
  },
  {
   "cell_type": "code",
   "execution_count": 108,
   "id": "41e2d330",
   "metadata": {},
   "outputs": [
    {
     "name": "stdout",
     "output_type": "stream",
     "text": [
      "[[68  9]\n",
      " [19 88]]\n"
     ]
    }
   ],
   "source": [
    "print(confusion_matrix(y_test_data, KNN_scaled_data_predictions))"
   ]
  },
  {
   "cell_type": "code",
   "execution_count": 109,
   "id": "2155f87f",
   "metadata": {},
   "outputs": [
    {
     "data": {
      "text/plain": [
       "Text(69.0, 0.5, 'Truth')"
      ]
     },
     "execution_count": 109,
     "metadata": {},
     "output_type": "execute_result"
    },
    {
     "data": {
      "image/png": "[encoded data removed]",
      "text/plain": [
       "<Figure size 720x504 with 2 Axes>"
      ]
     },
     "metadata": {
      "needs_background": "light"
     },
     "output_type": "display_data"
    }
   ],
   "source": [
    "KNN_cm = confusion_matrix(y_test_data, KNN_predictions)\n",
    "plt.figure(figsize=(10,7))\n",
    "sns.heatmap(KNN_cm, annot=True)\n",
    "plt.xlabel('Predicted')\n",
    "plt.ylabel('Truth')"
   ]
  },
  {
   "cell_type": "code",
   "execution_count": 110,
   "id": "6b1ab480",
   "metadata": {},
   "outputs": [
    {
     "data": {
      "text/plain": [
       "Text(69.0, 0.5, 'Truth')"
      ]
     },
     "execution_count": 110,
     "metadata": {},
     "output_type": "execute_result"
    },
    {
     "data": {
      "image/png": "[encoded data removed]",
      "text/plain": [
       "<Figure size 720x504 with 2 Axes>"
      ]
     },
     "metadata": {
      "needs_background": "light"
     },
     "output_type": "display_data"
    }
   ],
   "source": [
    "KNN_scaled_data_cm = confusion_matrix(y_test_data, KNN_scaled_data_predictions)\n",
    "plt.figure(figsize=(10,7))\n",
    "sns.heatmap(KNN_scaled_data_cm, annot=True)\n",
    "plt.xlabel('Predicted')\n",
    "plt.ylabel('Truth')"
   ]
  },
  {
   "cell_type": "code",
   "execution_count": 111,
   "id": "cfd70046",
   "metadata": {},
   "outputs": [
    {
     "name": "stdout",
     "output_type": "stream",
     "text": [
      "Accuracy of unscaled data: 0.6304347826086957\n"
     ]
    }
   ],
   "source": [
    "print(\"Accuracy of unscaled data:\", accuracy_score(y_test_data, KNN_predictions))"
   ]
  },
  {
   "cell_type": "code",
   "execution_count": 112,
   "id": "08150c90",
   "metadata": {},
   "outputs": [
    {
     "name": "stdout",
     "output_type": "stream",
     "text": [
      "Accuracy of scaled data: 0.8478260869565217\n"
     ]
    }
   ],
   "source": [
    "print(\"Accuracy of scaled data:\", accuracy_score(y_test_data, KNN_scaled_data_predictions))"
   ]
  },
  {
   "cell_type": "markdown",
   "id": "e1efbb8b",
   "metadata": {},
   "source": [
    "Now applying Random Forest on our dataset"
   ]
  },
  {
   "cell_type": "markdown",
   "id": "8cfb7818",
   "metadata": {},
   "source": [
    "# Random Forest"
   ]
  },
  {
   "cell_type": "code",
   "execution_count": 113,
   "id": "85e53fdb",
   "metadata": {},
   "outputs": [],
   "source": [
    "from sklearn.ensemble import RandomForestClassifier"
   ]
  },
  {
   "cell_type": "code",
   "execution_count": 114,
   "id": "f2c457bc",
   "metadata": {},
   "outputs": [],
   "source": [
    "RF_model = RandomForestClassifier(n_estimators = 100)"
   ]
  },
  {
   "cell_type": "code",
   "execution_count": 115,
   "id": "487fa46c",
   "metadata": {},
   "outputs": [],
   "source": [
    "RF_Classifier = RF_model.fit(x_train_data, y_train_data)"
   ]
  },
  {
   "cell_type": "code",
   "execution_count": 116,
   "id": "a2770ae0",
   "metadata": {},
   "outputs": [
    {
     "data": {
      "text/plain": [
       "RandomForestClassifier()"
      ]
     },
     "execution_count": 116,
     "metadata": {},
     "output_type": "execute_result"
    }
   ],
   "source": [
    "RF_Classifier"
   ]
  },
  {
   "cell_type": "code",
   "execution_count": 117,
   "id": "2e2bede3",
   "metadata": {},
   "outputs": [],
   "source": [
    "RF_Classifier_scaled_data = RF_model.fit(scaled_x_train_data, y_train_data)"
   ]
  },
  {
   "cell_type": "code",
   "execution_count": 118,
   "id": "a94f37b3",
   "metadata": {},
   "outputs": [
    {
     "data": {
      "text/plain": [
       "RandomForestClassifier()"
      ]
     },
     "execution_count": 118,
     "metadata": {},
     "output_type": "execute_result"
    }
   ],
   "source": [
    "RF_Classifier_scaled_data"
   ]
  },
  {
   "cell_type": "code",
   "execution_count": 119,
   "id": "a2e78904",
   "metadata": {},
   "outputs": [],
   "source": [
    "RF_predictions = RF_Classifier.predict(x_test_data)"
   ]
  },
  {
   "cell_type": "code",
   "execution_count": 120,
   "id": "9e8835b7",
   "metadata": {},
   "outputs": [
    {
     "data": {
      "text/plain": [
       "array([0, 0, 0, 0, 0, 0, 0, 0, 1, 1, 1, 0, 1, 0, 0, 1, 0, 0, 0, 1, 0, 0,\n",
       "       0, 0, 1, 0, 0, 0, 0, 0, 0, 0, 0, 1, 1, 0, 1, 0, 0, 0, 0, 1, 0, 0,\n",
       "       0, 1, 0, 0, 0, 1, 0, 0, 1, 1, 0, 0, 0, 0, 0, 1, 0, 0, 0, 0, 0, 0,\n",
       "       1, 0, 1, 0, 1, 0, 1, 0, 0, 1, 0, 0, 0, 0, 0, 1, 1, 0, 1, 1, 0, 1,\n",
       "       0, 0, 0, 0, 1, 0, 0, 0, 1, 0, 1, 1, 1, 1, 0, 0, 0, 0, 0, 0, 0, 0,\n",
       "       0, 1, 1, 0, 0, 0, 0, 0, 1, 0, 1, 0, 0, 0, 0, 0, 0, 0, 0, 0, 0, 1,\n",
       "       0, 0, 0, 0, 0, 1, 0, 0, 0, 0, 0, 1, 0, 1, 0, 0, 0, 0, 0, 0, 0, 0,\n",
       "       1, 0, 0, 0, 0, 1, 0, 0, 0, 0, 0, 0, 0, 1, 0, 0, 0, 1, 0, 1, 0, 1,\n",
       "       0, 0, 0, 0, 1, 1, 0, 0], dtype=int64)"
      ]
     },
     "execution_count": 120,
     "metadata": {},
     "output_type": "execute_result"
    }
   ],
   "source": [
    "RF_predictions"
   ]
  },
  {
   "cell_type": "code",
   "execution_count": 121,
   "id": "5b12b615",
   "metadata": {},
   "outputs": [],
   "source": [
    "RF_scaled_data_predictions = RF_Classifier_scaled_data.predict(scaled_x_test_data)"
   ]
  },
  {
   "cell_type": "code",
   "execution_count": 122,
   "id": "3a5cee40",
   "metadata": {},
   "outputs": [
    {
     "data": {
      "text/plain": [
       "array([0, 1, 1, 1, 0, 1, 1, 0, 1, 1, 1, 0, 1, 0, 1, 1, 0, 1, 1, 0, 1, 1,\n",
       "       0, 0, 1, 1, 0, 1, 0, 0, 1, 0, 1, 1, 1, 0, 1, 0, 1, 1, 1, 1, 0, 0,\n",
       "       0, 1, 1, 1, 1, 0, 0, 0, 1, 1, 1, 0, 0, 1, 1, 1, 0, 0, 0, 1, 0, 1,\n",
       "       1, 1, 1, 0, 0, 0, 1, 1, 0, 1, 0, 1, 0, 1, 0, 1, 1, 0, 1, 1, 0, 1,\n",
       "       0, 0, 0, 1, 1, 0, 1, 0, 1, 0, 1, 1, 0, 1, 1, 0, 1, 1, 0, 1, 1, 0,\n",
       "       1, 1, 0, 0, 1, 0, 1, 0, 1, 1, 1, 1, 0, 1, 0, 0, 0, 0, 0, 0, 0, 1,\n",
       "       1, 0, 1, 0, 1, 1, 0, 1, 0, 0, 1, 1, 1, 1, 1, 0, 0, 0, 0, 0, 1, 0,\n",
       "       1, 0, 0, 0, 0, 1, 0, 0, 1, 0, 1, 1, 1, 1, 0, 0, 1, 1, 0, 1, 0, 1,\n",
       "       1, 1, 0, 1, 1, 1, 0, 1], dtype=int64)"
      ]
     },
     "execution_count": 122,
     "metadata": {},
     "output_type": "execute_result"
    }
   ],
   "source": [
    "RF_scaled_data_predictions"
   ]
  },
  {
   "cell_type": "code",
   "execution_count": 123,
   "id": "72fbbed7",
   "metadata": {},
   "outputs": [
    {
     "name": "stdout",
     "output_type": "stream",
     "text": [
      "              precision    recall  f1-score   support\n",
      "\n",
      "           0       0.49      0.87      0.63        77\n",
      "           1       0.79      0.36      0.49       107\n",
      "\n",
      "    accuracy                           0.57       184\n",
      "   macro avg       0.64      0.61      0.56       184\n",
      "weighted avg       0.67      0.57      0.55       184\n",
      "\n"
     ]
    }
   ],
   "source": [
    "print(classification_report(y_test_data, RF_predictions))"
   ]
  },
  {
   "cell_type": "code",
   "execution_count": 124,
   "id": "f4d1cb14",
   "metadata": {},
   "outputs": [
    {
     "name": "stdout",
     "output_type": "stream",
     "text": [
      "              precision    recall  f1-score   support\n",
      "\n",
      "           0       0.83      0.88      0.86        77\n",
      "           1       0.91      0.87      0.89       107\n",
      "\n",
      "    accuracy                           0.88       184\n",
      "   macro avg       0.87      0.88      0.87       184\n",
      "weighted avg       0.88      0.88      0.88       184\n",
      "\n"
     ]
    }
   ],
   "source": [
    "print(classification_report(y_test_data, RF_scaled_data_predictions))"
   ]
  },
  {
   "cell_type": "code",
   "execution_count": 125,
   "id": "c878a5fc",
   "metadata": {},
   "outputs": [
    {
     "name": "stdout",
     "output_type": "stream",
     "text": [
      "[[67 10]\n",
      " [69 38]]\n"
     ]
    }
   ],
   "source": [
    "print(confusion_matrix(y_test_data, RF_predictions))"
   ]
  },
  {
   "cell_type": "code",
   "execution_count": 126,
   "id": "ec6ad06f",
   "metadata": {},
   "outputs": [
    {
     "name": "stdout",
     "output_type": "stream",
     "text": [
      "[[68  9]\n",
      " [14 93]]\n"
     ]
    }
   ],
   "source": [
    "print(confusion_matrix(y_test_data, RF_scaled_data_predictions))"
   ]
  },
  {
   "cell_type": "code",
   "execution_count": 127,
   "id": "9b7ee7e6",
   "metadata": {},
   "outputs": [
    {
     "data": {
      "text/plain": [
       "Text(69.0, 0.5, 'Truth')"
      ]
     },
     "execution_count": 127,
     "metadata": {},
     "output_type": "execute_result"
    },
    {
     "data": {
      "image/png": "[encoded data removed]",
      "text/plain": [
       "<Figure size 720x504 with 2 Axes>"
      ]
     },
     "metadata": {
      "needs_background": "light"
     },
     "output_type": "display_data"
    }
   ],
   "source": [
    "RF_cm = confusion_matrix(y_test_data, RF_predictions)\n",
    "plt.figure(figsize=(10,7))\n",
    "sns.heatmap(RF_cm, annot=True)\n",
    "plt.xlabel('Predicted')\n",
    "plt.ylabel('Truth')"
   ]
  },
  {
   "cell_type": "code",
   "execution_count": 128,
   "id": "c548bf2f",
   "metadata": {},
   "outputs": [
    {
     "data": {
      "text/plain": [
       "Text(69.0, 0.5, 'Truth')"
      ]
     },
     "execution_count": 128,
     "metadata": {},
     "output_type": "execute_result"
    },
    {
     "data": {
      "image/png": "[encoded data removed]",
      "text/plain": [
       "<Figure size 720x504 with 2 Axes>"
      ]
     },
     "metadata": {
      "needs_background": "light"
     },
     "output_type": "display_data"
    }
   ],
   "source": [
    "RF_scaled_data_cm = confusion_matrix(y_test_data, RF_scaled_data_predictions)\n",
    "plt.figure(figsize=(10,7))\n",
    "sns.heatmap(RF_scaled_data_cm, annot=True)\n",
    "plt.xlabel('Predicted')\n",
    "plt.ylabel('Truth')"
   ]
  },
  {
   "cell_type": "code",
   "execution_count": 129,
   "id": "0df69724",
   "metadata": {},
   "outputs": [
    {
     "name": "stdout",
     "output_type": "stream",
     "text": [
      "Accuracy of unscaled data: 0.5706521739130435\n"
     ]
    }
   ],
   "source": [
    "print(\"Accuracy of unscaled data:\", accuracy_score(y_test_data, RF_predictions))"
   ]
  },
  {
   "cell_type": "code",
   "execution_count": 130,
   "id": "cf7c8188",
   "metadata": {},
   "outputs": [
    {
     "name": "stdout",
     "output_type": "stream",
     "text": [
      "Accuracy of scaled data: 0.875\n"
     ]
    }
   ],
   "source": [
    "print(\"Accuracy of scaled data:\", accuracy_score(y_test_data, RF_scaled_data_predictions))"
   ]
  },
  {
   "cell_type": "markdown",
   "id": "84b34403",
   "metadata": {},
   "source": [
    "Now applying Neural Network on our dataset"
   ]
  },
  {
   "cell_type": "markdown",
   "id": "6713d7e7",
   "metadata": {},
   "source": [
    "# Neural Network"
   ]
  },
  {
   "cell_type": "code",
   "execution_count": 131,
   "id": "246cbb38",
   "metadata": {},
   "outputs": [],
   "source": [
    "from sklearn.neural_network import MLPClassifier"
   ]
  },
  {
   "cell_type": "code",
   "execution_count": 132,
   "id": "dc3cb557",
   "metadata": {},
   "outputs": [],
   "source": [
    "NN_model = MLPClassifier(hidden_layer_sizes=(8,8,8), activation='relu', solver='adam', max_iter=500)"
   ]
  },
  {
   "cell_type": "code",
   "execution_count": 133,
   "id": "c0e92097",
   "metadata": {},
   "outputs": [],
   "source": [
    "NN_Classifier = NN_model.fit(x_train_data, y_train_data)"
   ]
  },
  {
   "cell_type": "code",
   "execution_count": 134,
   "id": "e7802abd",
   "metadata": {},
   "outputs": [
    {
     "data": {
      "text/plain": [
       "MLPClassifier(hidden_layer_sizes=(8, 8, 8), max_iter=500)"
      ]
     },
     "execution_count": 134,
     "metadata": {},
     "output_type": "execute_result"
    }
   ],
   "source": [
    "NN_Classifier"
   ]
  },
  {
   "cell_type": "code",
   "execution_count": 135,
   "id": "6c1a6f47",
   "metadata": {},
   "outputs": [
    {
     "name": "stderr",
     "output_type": "stream",
     "text": [
      "C:\\Users\\hp\\anaconda3\\lib\\site-packages\\sklearn\\neural_network\\_multilayer_perceptron.py:614: ConvergenceWarning: Stochastic Optimizer: Maximum iterations (500) reached and the optimization hasn't converged yet.\n",
      "  warnings.warn(\n"
     ]
    }
   ],
   "source": [
    "NN_Classifier_scaled_data = NN_model.fit(scaled_x_train_data, y_train_data)"
   ]
  },
  {
   "cell_type": "code",
   "execution_count": 136,
   "id": "05836f80",
   "metadata": {},
   "outputs": [
    {
     "data": {
      "text/plain": [
       "MLPClassifier(hidden_layer_sizes=(8, 8, 8), max_iter=500)"
      ]
     },
     "execution_count": 136,
     "metadata": {},
     "output_type": "execute_result"
    }
   ],
   "source": [
    "NN_Classifier_scaled_data"
   ]
  },
  {
   "cell_type": "code",
   "execution_count": 137,
   "id": "a5eb1fbe",
   "metadata": {},
   "outputs": [],
   "source": [
    "NN_predictions = NN_Classifier.predict(x_test_data)"
   ]
  },
  {
   "cell_type": "code",
   "execution_count": 138,
   "id": "3c0775f3",
   "metadata": {},
   "outputs": [
    {
     "data": {
      "text/plain": [
       "array([1, 1, 1, 1, 1, 1, 1, 1, 1, 1, 1, 1, 1, 1, 1, 1, 1, 1, 1, 1, 1, 1,\n",
       "       1, 1, 1, 1, 1, 1, 1, 1, 1, 1, 1, 1, 1, 1, 1, 1, 1, 1, 1, 1, 1, 1,\n",
       "       1, 1, 1, 1, 1, 1, 1, 1, 1, 1, 1, 1, 1, 1, 1, 1, 1, 1, 1, 1, 1, 1,\n",
       "       1, 1, 1, 1, 1, 1, 1, 1, 1, 1, 1, 1, 1, 1, 1, 1, 1, 1, 1, 1, 1, 1,\n",
       "       1, 1, 1, 1, 1, 1, 1, 1, 1, 1, 1, 1, 1, 1, 1, 1, 1, 1, 1, 1, 1, 1,\n",
       "       1, 1, 1, 1, 1, 1, 1, 1, 1, 1, 1, 1, 1, 1, 1, 1, 1, 1, 1, 1, 1, 1,\n",
       "       1, 1, 1, 1, 1, 1, 1, 1, 1, 1, 1, 1, 1, 1, 1, 1, 1, 1, 1, 1, 1, 1,\n",
       "       1, 1, 1, 1, 1, 1, 1, 1, 1, 1, 1, 1, 1, 1, 1, 1, 1, 1, 1, 1, 1, 1,\n",
       "       1, 1, 1, 1, 1, 1, 1, 1], dtype=int64)"
      ]
     },
     "execution_count": 138,
     "metadata": {},
     "output_type": "execute_result"
    }
   ],
   "source": [
    "NN_predictions"
   ]
  },
  {
   "cell_type": "code",
   "execution_count": 139,
   "id": "18852cb0",
   "metadata": {},
   "outputs": [],
   "source": [
    "NN_scaled_data_predictions = NN_Classifier_scaled_data.predict(scaled_x_test_data)"
   ]
  },
  {
   "cell_type": "code",
   "execution_count": 140,
   "id": "b3ab2e24",
   "metadata": {},
   "outputs": [
    {
     "data": {
      "text/plain": [
       "array([0, 1, 1, 1, 0, 1, 1, 1, 0, 1, 1, 0, 1, 0, 1, 1, 0, 1, 1, 1, 1, 1,\n",
       "       0, 1, 1, 1, 0, 1, 0, 0, 1, 0, 0, 1, 1, 0, 1, 0, 1, 1, 0, 1, 0, 0,\n",
       "       0, 1, 0, 1, 1, 0, 0, 0, 1, 1, 0, 0, 0, 1, 0, 1, 0, 0, 0, 1, 1, 1,\n",
       "       1, 1, 1, 1, 0, 0, 1, 1, 0, 1, 0, 0, 0, 1, 1, 1, 1, 0, 1, 1, 0, 1,\n",
       "       0, 0, 0, 1, 1, 0, 1, 0, 1, 0, 1, 1, 0, 1, 0, 0, 1, 1, 0, 1, 1, 0,\n",
       "       1, 1, 0, 0, 1, 0, 1, 0, 1, 0, 1, 1, 1, 1, 0, 0, 0, 0, 0, 0, 0, 1,\n",
       "       1, 0, 1, 0, 1, 1, 0, 1, 0, 0, 1, 1, 1, 1, 1, 0, 0, 0, 0, 1, 1, 0,\n",
       "       1, 0, 0, 0, 0, 1, 0, 0, 1, 0, 0, 1, 0, 1, 0, 0, 1, 1, 0, 1, 0, 1,\n",
       "       1, 1, 0, 0, 1, 1, 0, 1], dtype=int64)"
      ]
     },
     "execution_count": 140,
     "metadata": {},
     "output_type": "execute_result"
    }
   ],
   "source": [
    "NN_scaled_data_predictions"
   ]
  },
  {
   "cell_type": "code",
   "execution_count": 141,
   "id": "426d66ef",
   "metadata": {},
   "outputs": [
    {
     "name": "stdout",
     "output_type": "stream",
     "text": [
      "              precision    recall  f1-score   support\n",
      "\n",
      "           0       0.00      0.00      0.00        77\n",
      "           1       0.58      1.00      0.74       107\n",
      "\n",
      "    accuracy                           0.58       184\n",
      "   macro avg       0.29      0.50      0.37       184\n",
      "weighted avg       0.34      0.58      0.43       184\n",
      "\n"
     ]
    },
    {
     "name": "stderr",
     "output_type": "stream",
     "text": [
      "C:\\Users\\hp\\anaconda3\\lib\\site-packages\\sklearn\\metrics\\_classification.py:1245: UndefinedMetricWarning: Precision and F-score are ill-defined and being set to 0.0 in labels with no predicted samples. Use `zero_division` parameter to control this behavior.\n",
      "  _warn_prf(average, modifier, msg_start, len(result))\n",
      "C:\\Users\\hp\\anaconda3\\lib\\site-packages\\sklearn\\metrics\\_classification.py:1245: UndefinedMetricWarning: Precision and F-score are ill-defined and being set to 0.0 in labels with no predicted samples. Use `zero_division` parameter to control this behavior.\n",
      "  _warn_prf(average, modifier, msg_start, len(result))\n",
      "C:\\Users\\hp\\anaconda3\\lib\\site-packages\\sklearn\\metrics\\_classification.py:1245: UndefinedMetricWarning: Precision and F-score are ill-defined and being set to 0.0 in labels with no predicted samples. Use `zero_division` parameter to control this behavior.\n",
      "  _warn_prf(average, modifier, msg_start, len(result))\n"
     ]
    }
   ],
   "source": [
    "print(classification_report(y_test_data, NN_predictions))"
   ]
  },
  {
   "cell_type": "code",
   "execution_count": 142,
   "id": "e729650b",
   "metadata": {},
   "outputs": [
    {
     "name": "stdout",
     "output_type": "stream",
     "text": [
      "              precision    recall  f1-score   support\n",
      "\n",
      "           0       0.77      0.86      0.81        77\n",
      "           1       0.89      0.81      0.85       107\n",
      "\n",
      "    accuracy                           0.83       184\n",
      "   macro avg       0.83      0.84      0.83       184\n",
      "weighted avg       0.84      0.83      0.83       184\n",
      "\n"
     ]
    }
   ],
   "source": [
    "print(classification_report(y_test_data, NN_scaled_data_predictions))"
   ]
  },
  {
   "cell_type": "code",
   "execution_count": 143,
   "id": "31bf4fe4",
   "metadata": {},
   "outputs": [
    {
     "name": "stdout",
     "output_type": "stream",
     "text": [
      "[[  0  77]\n",
      " [  0 107]]\n"
     ]
    }
   ],
   "source": [
    "print(confusion_matrix(y_test_data, NN_predictions))"
   ]
  },
  {
   "cell_type": "code",
   "execution_count": 144,
   "id": "d1b87e21",
   "metadata": {},
   "outputs": [
    {
     "name": "stdout",
     "output_type": "stream",
     "text": [
      "[[66 11]\n",
      " [20 87]]\n"
     ]
    }
   ],
   "source": [
    "print(confusion_matrix(y_test_data, NN_scaled_data_predictions))"
   ]
  },
  {
   "cell_type": "code",
   "execution_count": 145,
   "id": "17c56a4b",
   "metadata": {},
   "outputs": [
    {
     "data": {
      "text/plain": [
       "Text(69.0, 0.5, 'Truth')"
      ]
     },
     "execution_count": 145,
     "metadata": {},
     "output_type": "execute_result"
    },
    {
     "data": {
      "image/png": "[encoded data removed]",
      "text/plain": [
       "<Figure size 720x504 with 2 Axes>"
      ]
     },
     "metadata": {
      "needs_background": "light"
     },
     "output_type": "display_data"
    }
   ],
   "source": [
    "NN_cm = confusion_matrix(y_test_data, NN_predictions)\n",
    "plt.figure(figsize=(10,7))\n",
    "sns.heatmap(NN_cm, annot=True)\n",
    "plt.xlabel('Predicted')\n",
    "plt.ylabel('Truth')"
   ]
  },
  {
   "cell_type": "code",
   "execution_count": 146,
   "id": "f8f5cbf7",
   "metadata": {},
   "outputs": [
    {
     "data": {
      "text/plain": [
       "Text(69.0, 0.5, 'Truth')"
      ]
     },
     "execution_count": 146,
     "metadata": {},
     "output_type": "execute_result"
    },
    {
     "data": {
      "image/png": "[encoded data removed]",
      "text/plain": [
       "<Figure size 720x504 with 2 Axes>"
      ]
     },
     "metadata": {
      "needs_background": "light"
     },
     "output_type": "display_data"
    }
   ],
   "source": [
    "NN_scaled_data_cm = confusion_matrix(y_test_data, NN_scaled_data_predictions)\n",
    "plt.figure(figsize=(10,7))\n",
    "sns.heatmap(NN_scaled_data_cm, annot=True)\n",
    "plt.xlabel('Predicted')\n",
    "plt.ylabel('Truth')"
   ]
  },
  {
   "cell_type": "code",
   "execution_count": 147,
   "id": "fbec1df0",
   "metadata": {},
   "outputs": [
    {
     "name": "stdout",
     "output_type": "stream",
     "text": [
      "Accuracy of unscaled data: 0.5815217391304348\n"
     ]
    }
   ],
   "source": [
    "print(\"Accuracy of unscaled data:\", accuracy_score(y_test_data, NN_predictions))"
   ]
  },
  {
   "cell_type": "code",
   "execution_count": 148,
   "id": "ba0e166b",
   "metadata": {},
   "outputs": [
    {
     "name": "stdout",
     "output_type": "stream",
     "text": [
      "Accuracy of scaled data: 0.8315217391304348\n"
     ]
    }
   ],
   "source": [
    "print(\"Accuracy of scaled data:\", accuracy_score(y_test_data, NN_scaled_data_predictions))"
   ]
  },
  {
   "cell_type": "code",
   "execution_count": null,
   "id": "a6915088",
   "metadata": {},
   "outputs": [],
   "source": []
  }
 ],
 "metadata": {
  "kernelspec": {
   "display_name": "Python 3",
   "language": "python",
   "name": "python3"
  },
  "language_info": {
   "codemirror_mode": {
    "name": "ipython",
    "version": 3
   },
   "file_extension": ".py",
   "mimetype": "text/x-python",
   "name": "python",
   "nbconvert_exporter": "python",
   "pygments_lexer": "ipython3",
   "version": "3.8.8"
  }
 },
 "nbformat": 4,
 "nbformat_minor": 5
}
